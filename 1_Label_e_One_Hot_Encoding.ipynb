{
  "nbformat": 4,
  "nbformat_minor": 5,
  "metadata": {
    "kernelspec": {
      "display_name": "Python 3",
      "language": "python",
      "name": "python3"
    },
    "language_info": {
      "codemirror_mode": {
        "name": "ipython",
        "version": 3
      },
      "file_extension": ".py",
      "mimetype": "text/x-python",
      "name": "python",
      "nbconvert_exporter": "python",
      "pygments_lexer": "ipython3",
      "version": "3.8.8"
    },
    "colab": {
      "name": "1 - Label e One-Hot Encoding.ipynb",
      "provenance": [],
      "include_colab_link": true
    }
  },
  "cells": [
    {
      "cell_type": "markdown",
      "metadata": {
        "id": "view-in-github",
        "colab_type": "text"
      },
      "source": [
        "<a href=\"https://colab.research.google.com/github/artificialrick79/Studiare-AI/blob/Machine-Learning-con-python/1_Label_e_One_Hot_Encoding.ipynb\" target=\"_parent\"><img src=\"https://colab.research.google.com/assets/colab-badge.svg\" alt=\"Open In Colab\"/></a>"
      ]
    },
    {
      "cell_type": "markdown",
      "metadata": {
        "id": "9f7a4921"
      },
      "source": [
        "Per prima cosa importiamo Pandas e Numpy e importiamo il file csv. Impostando **\"index_col\" a False** l'intestazione del file non viene indicizzata."
      ],
      "id": "9f7a4921"
    },
    {
      "cell_type": "code",
      "metadata": {
        "id": "3319ba55"
      },
      "source": [
        "import pandas as pd\n",
        "import numpy as np\n",
        "\n",
        "shirts = pd.read_csv(\"https://raw.githubusercontent.com/artificialrick79/Studiare-AI/datasets/shirts.txt\", index_col=False)"
      ],
      "id": "3319ba55",
      "execution_count": null,
      "outputs": []
    },
    {
      "cell_type": "code",
      "metadata": {
        "colab": {
          "base_uri": "https://localhost:8080/",
          "height": 206
        },
        "id": "3e4de1a0",
        "outputId": "54c9ebc5-6108-4b03-b7b7-5b070cbb3592"
      },
      "source": [
        "shirts.head()"
      ],
      "id": "3e4de1a0",
      "execution_count": null,
      "outputs": [
        {
          "output_type": "execute_result",
          "data": {
            "text/html": [
              "<div>\n",
              "<style scoped>\n",
              "    .dataframe tbody tr th:only-of-type {\n",
              "        vertical-align: middle;\n",
              "    }\n",
              "\n",
              "    .dataframe tbody tr th {\n",
              "        vertical-align: top;\n",
              "    }\n",
              "\n",
              "    .dataframe thead th {\n",
              "        text-align: right;\n",
              "    }\n",
              "</style>\n",
              "<table border=\"1\" class=\"dataframe\">\n",
              "  <thead>\n",
              "    <tr style=\"text-align: right;\">\n",
              "      <th></th>\n",
              "      <th>taglia</th>\n",
              "      <th>colore</th>\n",
              "      <th>prezzo</th>\n",
              "    </tr>\n",
              "  </thead>\n",
              "  <tbody>\n",
              "    <tr>\n",
              "      <th>0</th>\n",
              "      <td>s</td>\n",
              "      <td>bianco</td>\n",
              "      <td>4.99</td>\n",
              "    </tr>\n",
              "    <tr>\n",
              "      <th>1</th>\n",
              "      <td>m</td>\n",
              "      <td>bianco</td>\n",
              "      <td>19.99</td>\n",
              "    </tr>\n",
              "    <tr>\n",
              "      <th>2</th>\n",
              "      <td>xl</td>\n",
              "      <td>rosso</td>\n",
              "      <td>12.49</td>\n",
              "    </tr>\n",
              "    <tr>\n",
              "      <th>3</th>\n",
              "      <td>xl</td>\n",
              "      <td>verde</td>\n",
              "      <td>14.99</td>\n",
              "    </tr>\n",
              "    <tr>\n",
              "      <th>4</th>\n",
              "      <td>s</td>\n",
              "      <td>bianco</td>\n",
              "      <td>9.99</td>\n",
              "    </tr>\n",
              "  </tbody>\n",
              "</table>\n",
              "</div>"
            ],
            "text/plain": [
              "  taglia  colore  prezzo\n",
              "0      s  bianco    4.99\n",
              "1      m  bianco   19.99\n",
              "2     xl   rosso   12.49\n",
              "3     xl   verde   14.99\n",
              "4      s  bianco    9.99"
            ]
          },
          "metadata": {
            "tags": []
          },
          "execution_count": 2
        }
      ]
    },
    {
      "cell_type": "markdown",
      "metadata": {
        "id": "3010fed8"
      },
      "source": [
        "Come vediamo ci sono due variabili \"**Categoriche**\", dove la \"**Taglia**\" è una variabile \"**Ordinale**\" mentre \"**Colore**\" è una variaibile \"**Nominale**\""
      ],
      "id": "3010fed8"
    },
    {
      "cell_type": "markdown",
      "metadata": {
        "id": "4b8704c4"
      },
      "source": [
        "Per trasformare la \"Taglia\" in numeri creiamo un dizionario ordinato."
      ],
      "id": "4b8704c4"
    },
    {
      "cell_type": "code",
      "metadata": {
        "id": "d12a87f2"
      },
      "source": [
        "size_mapping = {\"s\":0, \"m\":1, \"l\":2, \"xl\":3}"
      ],
      "id": "d12a87f2",
      "execution_count": null,
      "outputs": []
    },
    {
      "cell_type": "markdown",
      "metadata": {
        "id": "6043d9e7"
      },
      "source": [
        "Sostituiamo ora il valore chiave con il contenuto e quindi convertiamo il testo in numeri."
      ],
      "id": "6043d9e7"
    },
    {
      "cell_type": "code",
      "metadata": {
        "colab": {
          "base_uri": "https://localhost:8080/",
          "height": 206
        },
        "id": "9385871d",
        "outputId": "a1d4b194-a3d1-45fe-e11c-11a56bc3539e"
      },
      "source": [
        "shirts[\"taglia\"]=shirts[\"taglia\"].map(size_mapping)\n",
        "shirts.head()"
      ],
      "id": "9385871d",
      "execution_count": null,
      "outputs": [
        {
          "output_type": "execute_result",
          "data": {
            "text/html": [
              "<div>\n",
              "<style scoped>\n",
              "    .dataframe tbody tr th:only-of-type {\n",
              "        vertical-align: middle;\n",
              "    }\n",
              "\n",
              "    .dataframe tbody tr th {\n",
              "        vertical-align: top;\n",
              "    }\n",
              "\n",
              "    .dataframe thead th {\n",
              "        text-align: right;\n",
              "    }\n",
              "</style>\n",
              "<table border=\"1\" class=\"dataframe\">\n",
              "  <thead>\n",
              "    <tr style=\"text-align: right;\">\n",
              "      <th></th>\n",
              "      <th>taglia</th>\n",
              "      <th>colore</th>\n",
              "      <th>prezzo</th>\n",
              "    </tr>\n",
              "  </thead>\n",
              "  <tbody>\n",
              "    <tr>\n",
              "      <th>0</th>\n",
              "      <td>0</td>\n",
              "      <td>bianco</td>\n",
              "      <td>4.99</td>\n",
              "    </tr>\n",
              "    <tr>\n",
              "      <th>1</th>\n",
              "      <td>1</td>\n",
              "      <td>bianco</td>\n",
              "      <td>19.99</td>\n",
              "    </tr>\n",
              "    <tr>\n",
              "      <th>2</th>\n",
              "      <td>3</td>\n",
              "      <td>rosso</td>\n",
              "      <td>12.49</td>\n",
              "    </tr>\n",
              "    <tr>\n",
              "      <th>3</th>\n",
              "      <td>3</td>\n",
              "      <td>verde</td>\n",
              "      <td>14.99</td>\n",
              "    </tr>\n",
              "    <tr>\n",
              "      <th>4</th>\n",
              "      <td>0</td>\n",
              "      <td>bianco</td>\n",
              "      <td>9.99</td>\n",
              "    </tr>\n",
              "  </tbody>\n",
              "</table>\n",
              "</div>"
            ],
            "text/plain": [
              "   taglia  colore  prezzo\n",
              "0       0  bianco    4.99\n",
              "1       1  bianco   19.99\n",
              "2       3   rosso   12.49\n",
              "3       3   verde   14.99\n",
              "4       0  bianco    9.99"
            ]
          },
          "metadata": {
            "tags": []
          },
          "execution_count": 4
        }
      ]
    },
    {
      "cell_type": "markdown",
      "metadata": {
        "id": "a7c28d37"
      },
      "source": [
        "Se invece abbiamo un array Numpy e non un Dataframe di Pandas allora dobbiamo usare \"**vectorize**\" creandoci noi una funzione di map"
      ],
      "id": "a7c28d37"
    },
    {
      "cell_type": "markdown",
      "metadata": {
        "id": "78fbe66f"
      },
      "source": [
        "Importiamo il file e creiamo un array numpy contenente il dataset utilizzando la proprietà \"values\""
      ],
      "id": "78fbe66f"
    },
    {
      "cell_type": "code",
      "metadata": {
        "id": "480e692d"
      },
      "source": [
        "shirts = pd.read_csv(\"https://raw.githubusercontent.com/artificialrick79/Studiare-AI/datasets/shirts.txt\", index_col=False)\n",
        "X = shirts.values"
      ],
      "id": "480e692d",
      "execution_count": null,
      "outputs": []
    },
    {
      "cell_type": "code",
      "metadata": {
        "id": "de4d121f",
        "colab": {
          "base_uri": "https://localhost:8080/"
        },
        "outputId": "18ae76e9-df0c-4844-8b9e-39fa8a83edad"
      },
      "source": [
        "X[:10]"
      ],
      "id": "de4d121f",
      "execution_count": null,
      "outputs": [
        {
          "output_type": "execute_result",
          "data": {
            "text/plain": [
              "array([['s', 'bianco', 4.99],\n",
              "       ['m', 'bianco', 19.99],\n",
              "       ['xl', 'rosso', 12.49],\n",
              "       ['xl', 'verde', 14.99],\n",
              "       ['s', 'bianco', 9.99],\n",
              "       ['m', 'verde', 9.99],\n",
              "       ['xl', 'rosso', 13.99]], dtype=object)"
            ]
          },
          "metadata": {
            "tags": []
          },
          "execution_count": 6
        }
      ]
    },
    {
      "cell_type": "raw",
      "metadata": {
        "id": "87eacaab"
      },
      "source": [
        "Utilizziamo lambda come funzione usa e getta"
      ],
      "id": "87eacaab"
    },
    {
      "cell_type": "code",
      "metadata": {
        "id": "f8948863"
      },
      "source": [
        "fmap = np.vectorize(lambda t:size_mapping[t])\n",
        "X[:,0] = fmap(X[:,0])"
      ],
      "id": "f8948863",
      "execution_count": null,
      "outputs": []
    },
    {
      "cell_type": "code",
      "metadata": {
        "colab": {
          "base_uri": "https://localhost:8080/"
        },
        "id": "b5f7e8f2",
        "outputId": "70cb31e6-116d-456f-bad2-c9915380bf5e"
      },
      "source": [
        "X"
      ],
      "id": "b5f7e8f2",
      "execution_count": null,
      "outputs": [
        {
          "output_type": "execute_result",
          "data": {
            "text/plain": [
              "array([[0, 'bianco', 4.99],\n",
              "       [1, 'bianco', 19.99],\n",
              "       [3, 'rosso', 12.49],\n",
              "       [3, 'verde', 14.99],\n",
              "       [0, 'bianco', 9.99],\n",
              "       [1, 'verde', 9.99],\n",
              "       [3, 'rosso', 13.99]], dtype=object)"
            ]
          },
          "metadata": {
            "tags": []
          },
          "execution_count": 8
        }
      ]
    },
    {
      "cell_type": "markdown",
      "metadata": {
        "id": "db92008c"
      },
      "source": [
        "Nel caso di variabili nominali il metodo è il ONE-HOT-ENCODING che genera tante colonne quante necessarie associando una variabile booleana. In questo caso si usa la funzione get_dummies"
      ],
      "id": "db92008c"
    },
    {
      "cell_type": "code",
      "metadata": {
        "id": "7a6dc6f6"
      },
      "source": [
        "shirts2 = pd.read_csv(\"https://raw.githubusercontent.com/artificialrick79/Studiare-AI/datasets/shirts.txt\", index_col=False)"
      ],
      "id": "7a6dc6f6",
      "execution_count": null,
      "outputs": []
    },
    {
      "cell_type": "code",
      "metadata": {
        "colab": {
          "base_uri": "https://localhost:8080/",
          "height": 206
        },
        "id": "c4ad9dd2",
        "outputId": "4d30afc7-9520-4153-966c-7bd33888f27b"
      },
      "source": [
        "shirts2.head()"
      ],
      "id": "c4ad9dd2",
      "execution_count": null,
      "outputs": [
        {
          "output_type": "execute_result",
          "data": {
            "text/html": [
              "<div>\n",
              "<style scoped>\n",
              "    .dataframe tbody tr th:only-of-type {\n",
              "        vertical-align: middle;\n",
              "    }\n",
              "\n",
              "    .dataframe tbody tr th {\n",
              "        vertical-align: top;\n",
              "    }\n",
              "\n",
              "    .dataframe thead th {\n",
              "        text-align: right;\n",
              "    }\n",
              "</style>\n",
              "<table border=\"1\" class=\"dataframe\">\n",
              "  <thead>\n",
              "    <tr style=\"text-align: right;\">\n",
              "      <th></th>\n",
              "      <th>taglia</th>\n",
              "      <th>colore</th>\n",
              "      <th>prezzo</th>\n",
              "    </tr>\n",
              "  </thead>\n",
              "  <tbody>\n",
              "    <tr>\n",
              "      <th>0</th>\n",
              "      <td>s</td>\n",
              "      <td>bianco</td>\n",
              "      <td>4.99</td>\n",
              "    </tr>\n",
              "    <tr>\n",
              "      <th>1</th>\n",
              "      <td>m</td>\n",
              "      <td>bianco</td>\n",
              "      <td>19.99</td>\n",
              "    </tr>\n",
              "    <tr>\n",
              "      <th>2</th>\n",
              "      <td>xl</td>\n",
              "      <td>rosso</td>\n",
              "      <td>12.49</td>\n",
              "    </tr>\n",
              "    <tr>\n",
              "      <th>3</th>\n",
              "      <td>xl</td>\n",
              "      <td>verde</td>\n",
              "      <td>14.99</td>\n",
              "    </tr>\n",
              "    <tr>\n",
              "      <th>4</th>\n",
              "      <td>s</td>\n",
              "      <td>bianco</td>\n",
              "      <td>9.99</td>\n",
              "    </tr>\n",
              "  </tbody>\n",
              "</table>\n",
              "</div>"
            ],
            "text/plain": [
              "  taglia  colore  prezzo\n",
              "0      s  bianco    4.99\n",
              "1      m  bianco   19.99\n",
              "2     xl   rosso   12.49\n",
              "3     xl   verde   14.99\n",
              "4      s  bianco    9.99"
            ]
          },
          "metadata": {
            "tags": []
          },
          "execution_count": 10
        }
      ]
    },
    {
      "cell_type": "code",
      "metadata": {
        "id": "30076fa2"
      },
      "source": [
        "shirts2 = pd.get_dummies(shirts2, columns=[\"colore\"])"
      ],
      "id": "30076fa2",
      "execution_count": null,
      "outputs": []
    },
    {
      "cell_type": "code",
      "metadata": {
        "colab": {
          "base_uri": "https://localhost:8080/",
          "height": 206
        },
        "id": "1120f532",
        "outputId": "f024f93d-6486-4a4e-b650-fb5832818418"
      },
      "source": [
        "shirts2.head()"
      ],
      "id": "1120f532",
      "execution_count": null,
      "outputs": [
        {
          "output_type": "execute_result",
          "data": {
            "text/html": [
              "<div>\n",
              "<style scoped>\n",
              "    .dataframe tbody tr th:only-of-type {\n",
              "        vertical-align: middle;\n",
              "    }\n",
              "\n",
              "    .dataframe tbody tr th {\n",
              "        vertical-align: top;\n",
              "    }\n",
              "\n",
              "    .dataframe thead th {\n",
              "        text-align: right;\n",
              "    }\n",
              "</style>\n",
              "<table border=\"1\" class=\"dataframe\">\n",
              "  <thead>\n",
              "    <tr style=\"text-align: right;\">\n",
              "      <th></th>\n",
              "      <th>taglia</th>\n",
              "      <th>prezzo</th>\n",
              "      <th>colore_bianco</th>\n",
              "      <th>colore_rosso</th>\n",
              "      <th>colore_verde</th>\n",
              "    </tr>\n",
              "  </thead>\n",
              "  <tbody>\n",
              "    <tr>\n",
              "      <th>0</th>\n",
              "      <td>s</td>\n",
              "      <td>4.99</td>\n",
              "      <td>1</td>\n",
              "      <td>0</td>\n",
              "      <td>0</td>\n",
              "    </tr>\n",
              "    <tr>\n",
              "      <th>1</th>\n",
              "      <td>m</td>\n",
              "      <td>19.99</td>\n",
              "      <td>1</td>\n",
              "      <td>0</td>\n",
              "      <td>0</td>\n",
              "    </tr>\n",
              "    <tr>\n",
              "      <th>2</th>\n",
              "      <td>xl</td>\n",
              "      <td>12.49</td>\n",
              "      <td>0</td>\n",
              "      <td>1</td>\n",
              "      <td>0</td>\n",
              "    </tr>\n",
              "    <tr>\n",
              "      <th>3</th>\n",
              "      <td>xl</td>\n",
              "      <td>14.99</td>\n",
              "      <td>0</td>\n",
              "      <td>0</td>\n",
              "      <td>1</td>\n",
              "    </tr>\n",
              "    <tr>\n",
              "      <th>4</th>\n",
              "      <td>s</td>\n",
              "      <td>9.99</td>\n",
              "      <td>1</td>\n",
              "      <td>0</td>\n",
              "      <td>0</td>\n",
              "    </tr>\n",
              "  </tbody>\n",
              "</table>\n",
              "</div>"
            ],
            "text/plain": [
              "  taglia  prezzo  colore_bianco  colore_rosso  colore_verde\n",
              "0      s    4.99              1             0             0\n",
              "1      m   19.99              1             0             0\n",
              "2     xl   12.49              0             1             0\n",
              "3     xl   14.99              0             0             1\n",
              "4      s    9.99              1             0             0"
            ]
          },
          "metadata": {
            "tags": []
          },
          "execution_count": 12
        }
      ]
    },
    {
      "cell_type": "raw",
      "metadata": {
        "id": "0f791323"
      },
      "source": [
        "Invece per eseguire il ONE-HOT-ENCODING su array dobbiamo utilizzare SciKit Learn con le funzioni LabelEncoder (per sostituire ogni label con un numero) e OneHotEncoder (per creare le nostre variabili di comodo) e ColumnTransformer che applica le trasformazioni solo a determiante colonne. Passiamo al ColumnTransformer una lista di tuple con dentro:\n",
        "\n",
        "- un alias per la trasformazione scelto da noi\n",
        "- La trasformazione da applicare\n",
        "- Una lista con gli indici delle colonne a cui applicare la trasformazione\n",
        "\n",
        "Utilizzando il parametro remainder possiamo definire come comportarci con le colonne che non sono state trasformate, il valore di default è \"drop\" che le rimuove, impostandolo a \"passthrough\" le aggiungeremo alla matrice senza applicare alcuna trasformazione. "
      ],
      "id": "0f791323"
    },
    {
      "cell_type": "code",
      "metadata": {
        "id": "de08dfa0"
      },
      "source": [
        "from sklearn.preprocessing import LabelEncoder\n",
        "from sklearn.preprocessing import OneHotEncoder\n",
        "from sklearn.compose import ColumnTransformer"
      ],
      "id": "de08dfa0",
      "execution_count": null,
      "outputs": []
    },
    {
      "cell_type": "code",
      "metadata": {
        "id": "195e0fd2"
      },
      "source": [
        "X = shirts.values \n",
        "transf = ColumnTransformer([('ohe', OneHotEncoder(), [1])], remainder=\"passthrough\")\n",
        "\n",
        "X = transf.fit_transform(X)"
      ],
      "id": "195e0fd2",
      "execution_count": null,
      "outputs": []
    },
    {
      "cell_type": "markdown",
      "metadata": {
        "id": "lFBe7l_h5Zau"
      },
      "source": [
        "Controlliamo il risultato"
      ],
      "id": "lFBe7l_h5Zau"
    },
    {
      "cell_type": "code",
      "metadata": {
        "colab": {
          "base_uri": "https://localhost:8080/"
        },
        "id": "cecb05f3",
        "outputId": "42654167-d272-4ace-8ac4-a263bd9c8b8b"
      },
      "source": [
        "X[:5]"
      ],
      "id": "cecb05f3",
      "execution_count": null,
      "outputs": [
        {
          "output_type": "execute_result",
          "data": {
            "text/plain": [
              "array([[1.0, 0.0, 0.0, 's', 4.99],\n",
              "       [1.0, 0.0, 0.0, 'm', 19.99],\n",
              "       [0.0, 1.0, 0.0, 'xl', 12.49],\n",
              "       [0.0, 0.0, 1.0, 'xl', 14.99],\n",
              "       [1.0, 0.0, 0.0, 's', 9.99]], dtype=object)"
            ]
          },
          "metadata": {
            "tags": []
          },
          "execution_count": 17
        }
      ]
    }
  ]
}