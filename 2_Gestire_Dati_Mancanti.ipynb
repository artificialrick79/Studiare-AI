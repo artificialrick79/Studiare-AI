{
  "nbformat": 4,
  "nbformat_minor": 5,
  "metadata": {
    "kernelspec": {
      "display_name": "Python 3",
      "language": "python",
      "name": "python3"
    },
    "language_info": {
      "codemirror_mode": {
        "name": "ipython",
        "version": 3
      },
      "file_extension": ".py",
      "mimetype": "text/x-python",
      "name": "python",
      "nbconvert_exporter": "python",
      "pygments_lexer": "ipython3",
      "version": "3.8.8"
    },
    "colab": {
      "name": "2 - Gestire Dati Mancanti.ipynb",
      "provenance": [],
      "include_colab_link": true
    }
  },
  "cells": [
    {
      "cell_type": "markdown",
      "metadata": {
        "id": "view-in-github",
        "colab_type": "text"
      },
      "source": [
        "<a href=\"https://colab.research.google.com/github/artificialrick79/Studiare-AI/blob/Machine-Learning-con-python/2_Gestire_Dati_Mancanti.ipynb\" target=\"_parent\"><img src=\"https://colab.research.google.com/assets/colab-badge.svg\" alt=\"Open In Colab\"/></a>"
      ]
    },
    {
      "cell_type": "code",
      "metadata": {
        "id": "94cde592"
      },
      "source": [
        "import pandas as pd\n",
        "import numpy as np"
      ],
      "id": "94cde592",
      "execution_count": 37,
      "outputs": []
    },
    {
      "cell_type": "code",
      "metadata": {
        "id": "b756fb29"
      },
      "source": [
        "iris_nan = pd.read_csv(\"https://raw.githubusercontent.com/artificialrick79/Studiare-AI/datasets/iris.data\", index_col=None)"
      ],
      "id": "b756fb29",
      "execution_count": 38,
      "outputs": []
    },
    {
      "cell_type": "markdown",
      "metadata": {
        "id": "K1ySpqz4x8ym"
      },
      "source": [
        "Questo dataset contiene dei valori NaN che dobbiamo andare ad eliminare o correggere"
      ],
      "id": "K1ySpqz4x8ym"
    },
    {
      "cell_type": "code",
      "metadata": {
        "colab": {
          "base_uri": "https://localhost:8080/",
          "height": 423
        },
        "id": "44cc338b",
        "outputId": "e1312a17-a6fe-4450-ae41-2284de6f97a4"
      },
      "source": [
        "iris_nan"
      ],
      "id": "44cc338b",
      "execution_count": 39,
      "outputs": [
        {
          "output_type": "execute_result",
          "data": {
            "text/html": [
              "<div>\n",
              "<style scoped>\n",
              "    .dataframe tbody tr th:only-of-type {\n",
              "        vertical-align: middle;\n",
              "    }\n",
              "\n",
              "    .dataframe tbody tr th {\n",
              "        vertical-align: top;\n",
              "    }\n",
              "\n",
              "    .dataframe thead th {\n",
              "        text-align: right;\n",
              "    }\n",
              "</style>\n",
              "<table border=\"1\" class=\"dataframe\">\n",
              "  <thead>\n",
              "    <tr style=\"text-align: right;\">\n",
              "      <th></th>\n",
              "      <th>spal_lenght</th>\n",
              "      <th>sepal_width</th>\n",
              "      <th>petal_length</th>\n",
              "      <th>petal_width</th>\n",
              "      <th>class</th>\n",
              "    </tr>\n",
              "  </thead>\n",
              "  <tbody>\n",
              "    <tr>\n",
              "      <th>0</th>\n",
              "      <td>5.1</td>\n",
              "      <td>3.5</td>\n",
              "      <td>1.4</td>\n",
              "      <td>NaN</td>\n",
              "      <td>Iris-setosa</td>\n",
              "    </tr>\n",
              "    <tr>\n",
              "      <th>1</th>\n",
              "      <td>4.9</td>\n",
              "      <td>3.0</td>\n",
              "      <td>1.4</td>\n",
              "      <td>0.2</td>\n",
              "      <td>Iris-setosa</td>\n",
              "    </tr>\n",
              "    <tr>\n",
              "      <th>2</th>\n",
              "      <td>4.7</td>\n",
              "      <td>3.2</td>\n",
              "      <td>1.3</td>\n",
              "      <td>0.2</td>\n",
              "      <td>Iris-setosa</td>\n",
              "    </tr>\n",
              "    <tr>\n",
              "      <th>3</th>\n",
              "      <td>4.6</td>\n",
              "      <td>3.1</td>\n",
              "      <td>1.5</td>\n",
              "      <td>NaN</td>\n",
              "      <td>Iris-setosa</td>\n",
              "    </tr>\n",
              "    <tr>\n",
              "      <th>4</th>\n",
              "      <td>5.0</td>\n",
              "      <td>3.6</td>\n",
              "      <td>1.4</td>\n",
              "      <td>0.2</td>\n",
              "      <td>Iris-setosa</td>\n",
              "    </tr>\n",
              "    <tr>\n",
              "      <th>...</th>\n",
              "      <td>...</td>\n",
              "      <td>...</td>\n",
              "      <td>...</td>\n",
              "      <td>...</td>\n",
              "      <td>...</td>\n",
              "    </tr>\n",
              "    <tr>\n",
              "      <th>145</th>\n",
              "      <td>6.7</td>\n",
              "      <td>3.0</td>\n",
              "      <td>5.2</td>\n",
              "      <td>2.3</td>\n",
              "      <td>Iris-virginica</td>\n",
              "    </tr>\n",
              "    <tr>\n",
              "      <th>146</th>\n",
              "      <td>6.3</td>\n",
              "      <td>2.5</td>\n",
              "      <td>5.0</td>\n",
              "      <td>1.9</td>\n",
              "      <td>Iris-virginica</td>\n",
              "    </tr>\n",
              "    <tr>\n",
              "      <th>147</th>\n",
              "      <td>6.5</td>\n",
              "      <td>3.0</td>\n",
              "      <td>5.2</td>\n",
              "      <td>2.0</td>\n",
              "      <td>Iris-virginica</td>\n",
              "    </tr>\n",
              "    <tr>\n",
              "      <th>148</th>\n",
              "      <td>6.2</td>\n",
              "      <td>3.4</td>\n",
              "      <td>5.4</td>\n",
              "      <td>2.3</td>\n",
              "      <td>Iris-virginica</td>\n",
              "    </tr>\n",
              "    <tr>\n",
              "      <th>149</th>\n",
              "      <td>5.9</td>\n",
              "      <td>3.0</td>\n",
              "      <td>5.1</td>\n",
              "      <td>1.8</td>\n",
              "      <td>Iris-virginica</td>\n",
              "    </tr>\n",
              "  </tbody>\n",
              "</table>\n",
              "<p>150 rows × 5 columns</p>\n",
              "</div>"
            ],
            "text/plain": [
              "     spal_lenght  sepal_width  petal_length  petal_width           class\n",
              "0            5.1          3.5           1.4          NaN     Iris-setosa\n",
              "1            4.9          3.0           1.4          0.2     Iris-setosa\n",
              "2            4.7          3.2           1.3          0.2     Iris-setosa\n",
              "3            4.6          3.1           1.5          NaN     Iris-setosa\n",
              "4            5.0          3.6           1.4          0.2     Iris-setosa\n",
              "..           ...          ...           ...          ...             ...\n",
              "145          6.7          3.0           5.2          2.3  Iris-virginica\n",
              "146          6.3          2.5           5.0          1.9  Iris-virginica\n",
              "147          6.5          3.0           5.2          2.0  Iris-virginica\n",
              "148          6.2          3.4           5.4          2.3  Iris-virginica\n",
              "149          5.9          3.0           5.1          1.8  Iris-virginica\n",
              "\n",
              "[150 rows x 5 columns]"
            ]
          },
          "metadata": {
            "tags": []
          },
          "execution_count": 39
        }
      ]
    },
    {
      "cell_type": "markdown",
      "metadata": {
        "id": "Qgte-_hHauXX"
      },
      "source": [
        "Vediamo quante celle sono NaN in corrispondenza di \"petal_width\""
      ],
      "id": "Qgte-_hHauXX"
    },
    {
      "cell_type": "code",
      "metadata": {
        "colab": {
          "base_uri": "https://localhost:8080/"
        },
        "id": "rjogxSH9a3n7",
        "outputId": "7541a20f-627d-4141-f423-87c7feabda43"
      },
      "source": [
        "nan_count = iris_nan['petal_width'].isnull().sum()\n",
        "print(nan_count)"
      ],
      "id": "rjogxSH9a3n7",
      "execution_count": 40,
      "outputs": [
        {
          "output_type": "stream",
          "text": [
            "2\n"
          ],
          "name": "stdout"
        }
      ]
    },
    {
      "cell_type": "markdown",
      "metadata": {
        "id": "e54b4de5"
      },
      "source": [
        "Creiamo gli array numpy collegati alle classi delle features"
      ],
      "id": "e54b4de5"
    },
    {
      "cell_type": "code",
      "metadata": {
        "id": "3402c16f"
      },
      "source": [
        "Y = iris_nan[\"class\"].values"
      ],
      "id": "3402c16f",
      "execution_count": 41,
      "outputs": []
    },
    {
      "cell_type": "code",
      "metadata": {
        "id": "928e148d"
      },
      "source": [
        "X = iris_nan.drop(\"class\", axis=1).values"
      ],
      "id": "928e148d",
      "execution_count": 42,
      "outputs": []
    },
    {
      "cell_type": "markdown",
      "metadata": {
        "id": "H3W4cgEvyJJA"
      },
      "source": [
        "Controlliamo i risultati con uno slice"
      ],
      "id": "H3W4cgEvyJJA"
    },
    {
      "cell_type": "code",
      "metadata": {
        "colab": {
          "base_uri": "https://localhost:8080/"
        },
        "id": "4812cbb8",
        "outputId": "2ca0c9b0-e54f-4407-8c30-8b158f52182f"
      },
      "source": [
        "Y[:10]"
      ],
      "id": "4812cbb8",
      "execution_count": 43,
      "outputs": [
        {
          "output_type": "execute_result",
          "data": {
            "text/plain": [
              "array(['Iris-setosa', 'Iris-setosa', 'Iris-setosa', 'Iris-setosa',\n",
              "       'Iris-setosa', 'Iris-setosa', 'Iris-setosa', 'Iris-setosa',\n",
              "       'Iris-setosa', 'Iris-setosa'], dtype=object)"
            ]
          },
          "metadata": {
            "tags": []
          },
          "execution_count": 43
        }
      ]
    },
    {
      "cell_type": "code",
      "metadata": {
        "colab": {
          "base_uri": "https://localhost:8080/"
        },
        "id": "f06d33b1",
        "outputId": "da7a4468-5f4b-49e4-bff7-7ff109ef240e"
      },
      "source": [
        "X[:10]"
      ],
      "id": "f06d33b1",
      "execution_count": 44,
      "outputs": [
        {
          "output_type": "execute_result",
          "data": {
            "text/plain": [
              "array([[5.1, 3.5, 1.4, nan],\n",
              "       [4.9, 3. , 1.4, 0.2],\n",
              "       [4.7, 3.2, 1.3, 0.2],\n",
              "       [4.6, 3.1, 1.5, nan],\n",
              "       [5. , 3.6, 1.4, 0.2],\n",
              "       [5.4, 3.9, 1.7, 0.4],\n",
              "       [4.6, 3.4, 1.4, 0.3],\n",
              "       [5. , 3.4, 1.5, 0.2],\n",
              "       [4.4, 2.9, 1.4, 0.2],\n",
              "       [4.9, 3.1, 1.5, 0.1]])"
            ]
          },
          "metadata": {
            "tags": []
          },
          "execution_count": 44
        }
      ]
    },
    {
      "cell_type": "markdown",
      "metadata": {
        "id": "f9ce6e35"
      },
      "source": [
        "Una possibilità è rimuovere colonne e righe che riportano valori mancanti NaN. Per eliminare le righe si usa la funzione dropna()"
      ],
      "id": "f9ce6e35"
    },
    {
      "cell_type": "code",
      "metadata": {
        "id": "9dcd48ce"
      },
      "source": [
        "iris_cleanrow = iris_nan.dropna()"
      ],
      "id": "9dcd48ce",
      "execution_count": 45,
      "outputs": []
    },
    {
      "cell_type": "markdown",
      "metadata": {
        "id": "t4Yj2zTkyY_y"
      },
      "source": [
        "Controlliamo il risultato"
      ],
      "id": "t4Yj2zTkyY_y"
    },
    {
      "cell_type": "code",
      "metadata": {
        "colab": {
          "base_uri": "https://localhost:8080/",
          "height": 206
        },
        "id": "221a1dff",
        "outputId": "57339439-d95b-40c6-f202-134cd66d2fbb"
      },
      "source": [
        "iris_cleanrow.head()"
      ],
      "id": "221a1dff",
      "execution_count": 46,
      "outputs": [
        {
          "output_type": "execute_result",
          "data": {
            "text/html": [
              "<div>\n",
              "<style scoped>\n",
              "    .dataframe tbody tr th:only-of-type {\n",
              "        vertical-align: middle;\n",
              "    }\n",
              "\n",
              "    .dataframe tbody tr th {\n",
              "        vertical-align: top;\n",
              "    }\n",
              "\n",
              "    .dataframe thead th {\n",
              "        text-align: right;\n",
              "    }\n",
              "</style>\n",
              "<table border=\"1\" class=\"dataframe\">\n",
              "  <thead>\n",
              "    <tr style=\"text-align: right;\">\n",
              "      <th></th>\n",
              "      <th>spal_lenght</th>\n",
              "      <th>sepal_width</th>\n",
              "      <th>petal_length</th>\n",
              "      <th>petal_width</th>\n",
              "      <th>class</th>\n",
              "    </tr>\n",
              "  </thead>\n",
              "  <tbody>\n",
              "    <tr>\n",
              "      <th>1</th>\n",
              "      <td>4.9</td>\n",
              "      <td>3.0</td>\n",
              "      <td>1.4</td>\n",
              "      <td>0.2</td>\n",
              "      <td>Iris-setosa</td>\n",
              "    </tr>\n",
              "    <tr>\n",
              "      <th>2</th>\n",
              "      <td>4.7</td>\n",
              "      <td>3.2</td>\n",
              "      <td>1.3</td>\n",
              "      <td>0.2</td>\n",
              "      <td>Iris-setosa</td>\n",
              "    </tr>\n",
              "    <tr>\n",
              "      <th>4</th>\n",
              "      <td>5.0</td>\n",
              "      <td>3.6</td>\n",
              "      <td>1.4</td>\n",
              "      <td>0.2</td>\n",
              "      <td>Iris-setosa</td>\n",
              "    </tr>\n",
              "    <tr>\n",
              "      <th>5</th>\n",
              "      <td>5.4</td>\n",
              "      <td>3.9</td>\n",
              "      <td>1.7</td>\n",
              "      <td>0.4</td>\n",
              "      <td>Iris-setosa</td>\n",
              "    </tr>\n",
              "    <tr>\n",
              "      <th>6</th>\n",
              "      <td>4.6</td>\n",
              "      <td>3.4</td>\n",
              "      <td>1.4</td>\n",
              "      <td>0.3</td>\n",
              "      <td>Iris-setosa</td>\n",
              "    </tr>\n",
              "  </tbody>\n",
              "</table>\n",
              "</div>"
            ],
            "text/plain": [
              "   spal_lenght  sepal_width  petal_length  petal_width        class\n",
              "1          4.9          3.0           1.4          0.2  Iris-setosa\n",
              "2          4.7          3.2           1.3          0.2  Iris-setosa\n",
              "4          5.0          3.6           1.4          0.2  Iris-setosa\n",
              "5          5.4          3.9           1.7          0.4  Iris-setosa\n",
              "6          4.6          3.4           1.4          0.3  Iris-setosa"
            ]
          },
          "metadata": {
            "tags": []
          },
          "execution_count": 46
        }
      ]
    },
    {
      "cell_type": "markdown",
      "metadata": {
        "id": "73a50a03"
      },
      "source": [
        "Invece per rimuovere le colonne si usa dropna() specificando axis=1"
      ],
      "id": "73a50a03"
    },
    {
      "cell_type": "code",
      "metadata": {
        "id": "909fcad2"
      },
      "source": [
        "iris_cleancol = iris_nan.dropna(axis=1)"
      ],
      "id": "909fcad2",
      "execution_count": 47,
      "outputs": []
    },
    {
      "cell_type": "code",
      "metadata": {
        "colab": {
          "base_uri": "https://localhost:8080/",
          "height": 206
        },
        "id": "4bfee3e4",
        "outputId": "91d6a7b0-4e69-4861-8046-78d87fb46e80"
      },
      "source": [
        "iris_cleancol.head()"
      ],
      "id": "4bfee3e4",
      "execution_count": 48,
      "outputs": [
        {
          "output_type": "execute_result",
          "data": {
            "text/html": [
              "<div>\n",
              "<style scoped>\n",
              "    .dataframe tbody tr th:only-of-type {\n",
              "        vertical-align: middle;\n",
              "    }\n",
              "\n",
              "    .dataframe tbody tr th {\n",
              "        vertical-align: top;\n",
              "    }\n",
              "\n",
              "    .dataframe thead th {\n",
              "        text-align: right;\n",
              "    }\n",
              "</style>\n",
              "<table border=\"1\" class=\"dataframe\">\n",
              "  <thead>\n",
              "    <tr style=\"text-align: right;\">\n",
              "      <th></th>\n",
              "      <th>spal_lenght</th>\n",
              "      <th>sepal_width</th>\n",
              "      <th>petal_length</th>\n",
              "      <th>class</th>\n",
              "    </tr>\n",
              "  </thead>\n",
              "  <tbody>\n",
              "    <tr>\n",
              "      <th>0</th>\n",
              "      <td>5.1</td>\n",
              "      <td>3.5</td>\n",
              "      <td>1.4</td>\n",
              "      <td>Iris-setosa</td>\n",
              "    </tr>\n",
              "    <tr>\n",
              "      <th>1</th>\n",
              "      <td>4.9</td>\n",
              "      <td>3.0</td>\n",
              "      <td>1.4</td>\n",
              "      <td>Iris-setosa</td>\n",
              "    </tr>\n",
              "    <tr>\n",
              "      <th>2</th>\n",
              "      <td>4.7</td>\n",
              "      <td>3.2</td>\n",
              "      <td>1.3</td>\n",
              "      <td>Iris-setosa</td>\n",
              "    </tr>\n",
              "    <tr>\n",
              "      <th>3</th>\n",
              "      <td>4.6</td>\n",
              "      <td>3.1</td>\n",
              "      <td>1.5</td>\n",
              "      <td>Iris-setosa</td>\n",
              "    </tr>\n",
              "    <tr>\n",
              "      <th>4</th>\n",
              "      <td>5.0</td>\n",
              "      <td>3.6</td>\n",
              "      <td>1.4</td>\n",
              "      <td>Iris-setosa</td>\n",
              "    </tr>\n",
              "  </tbody>\n",
              "</table>\n",
              "</div>"
            ],
            "text/plain": [
              "   spal_lenght  sepal_width  petal_length        class\n",
              "0          5.1          3.5           1.4  Iris-setosa\n",
              "1          4.9          3.0           1.4  Iris-setosa\n",
              "2          4.7          3.2           1.3  Iris-setosa\n",
              "3          4.6          3.1           1.5  Iris-setosa\n",
              "4          5.0          3.6           1.4  Iris-setosa"
            ]
          },
          "metadata": {
            "tags": []
          },
          "execution_count": 48
        }
      ]
    },
    {
      "cell_type": "markdown",
      "metadata": {
        "id": "f7a7ba23"
      },
      "source": [
        "Ad ogni modo non è mai un buon approccio eliminare informazioni legati a dati e quindi possiamo riempire i campi mancanti con funzioni come mean, median o mode che rappresentano una stima"
      ],
      "id": "f7a7ba23"
    },
    {
      "cell_type": "markdown",
      "metadata": {
        "id": "LxpMHFQ1y9at"
      },
      "source": [
        "Quindi si calcola il mean del dataset e poi si usa la funzione fillna per inserire il valore ottenuto nelle celle NaN"
      ],
      "id": "LxpMHFQ1y9at"
    },
    {
      "cell_type": "code",
      "metadata": {
        "id": "191df2d4"
      },
      "source": [
        "replace_with_mean = iris_nan['petal_length'].mean()\n",
        "iris_new = iris_nan.fillna(replace_with_mean)"
      ],
      "id": "191df2d4",
      "execution_count": 49,
      "outputs": []
    },
    {
      "cell_type": "markdown",
      "metadata": {
        "id": "xAKqGURbcVs4"
      },
      "source": [
        "Verifichiamo che non ci siano più dati NaN"
      ],
      "id": "xAKqGURbcVs4"
    },
    {
      "cell_type": "code",
      "metadata": {
        "colab": {
          "base_uri": "https://localhost:8080/"
        },
        "id": "3hYPPg4dcZe8",
        "outputId": "308acb3f-3244-43db-f442-e5143850a7a9"
      },
      "source": [
        "nan_count = iris_new['petal_length'].isnull().sum() \n",
        "print(nan_count)"
      ],
      "id": "3hYPPg4dcZe8",
      "execution_count": 50,
      "outputs": [
        {
          "output_type": "stream",
          "text": [
            "0\n"
          ],
          "name": "stdout"
        }
      ]
    },
    {
      "cell_type": "markdown",
      "metadata": {
        "id": "6H6ty9d8dT4O"
      },
      "source": [
        "Vediamo che sulla riga 0 e 3 è stato inserito il valore del \"mean\""
      ],
      "id": "6H6ty9d8dT4O"
    },
    {
      "cell_type": "code",
      "metadata": {
        "colab": {
          "base_uri": "https://localhost:8080/",
          "height": 206
        },
        "id": "4f1c9a94",
        "outputId": "e11d557f-c50e-49fb-bc6c-ab2ff76dfbc9"
      },
      "source": [
        "iris_new.head()"
      ],
      "id": "4f1c9a94",
      "execution_count": 51,
      "outputs": [
        {
          "output_type": "execute_result",
          "data": {
            "text/html": [
              "<div>\n",
              "<style scoped>\n",
              "    .dataframe tbody tr th:only-of-type {\n",
              "        vertical-align: middle;\n",
              "    }\n",
              "\n",
              "    .dataframe tbody tr th {\n",
              "        vertical-align: top;\n",
              "    }\n",
              "\n",
              "    .dataframe thead th {\n",
              "        text-align: right;\n",
              "    }\n",
              "</style>\n",
              "<table border=\"1\" class=\"dataframe\">\n",
              "  <thead>\n",
              "    <tr style=\"text-align: right;\">\n",
              "      <th></th>\n",
              "      <th>spal_lenght</th>\n",
              "      <th>sepal_width</th>\n",
              "      <th>petal_length</th>\n",
              "      <th>petal_width</th>\n",
              "      <th>class</th>\n",
              "    </tr>\n",
              "  </thead>\n",
              "  <tbody>\n",
              "    <tr>\n",
              "      <th>0</th>\n",
              "      <td>5.1</td>\n",
              "      <td>3.5</td>\n",
              "      <td>1.4</td>\n",
              "      <td>3.758667</td>\n",
              "      <td>Iris-setosa</td>\n",
              "    </tr>\n",
              "    <tr>\n",
              "      <th>1</th>\n",
              "      <td>4.9</td>\n",
              "      <td>3.0</td>\n",
              "      <td>1.4</td>\n",
              "      <td>0.200000</td>\n",
              "      <td>Iris-setosa</td>\n",
              "    </tr>\n",
              "    <tr>\n",
              "      <th>2</th>\n",
              "      <td>4.7</td>\n",
              "      <td>3.2</td>\n",
              "      <td>1.3</td>\n",
              "      <td>0.200000</td>\n",
              "      <td>Iris-setosa</td>\n",
              "    </tr>\n",
              "    <tr>\n",
              "      <th>3</th>\n",
              "      <td>4.6</td>\n",
              "      <td>3.1</td>\n",
              "      <td>1.5</td>\n",
              "      <td>3.758667</td>\n",
              "      <td>Iris-setosa</td>\n",
              "    </tr>\n",
              "    <tr>\n",
              "      <th>4</th>\n",
              "      <td>5.0</td>\n",
              "      <td>3.6</td>\n",
              "      <td>1.4</td>\n",
              "      <td>0.200000</td>\n",
              "      <td>Iris-setosa</td>\n",
              "    </tr>\n",
              "  </tbody>\n",
              "</table>\n",
              "</div>"
            ],
            "text/plain": [
              "   spal_lenght  sepal_width  petal_length  petal_width        class\n",
              "0          5.1          3.5           1.4     3.758667  Iris-setosa\n",
              "1          4.9          3.0           1.4     0.200000  Iris-setosa\n",
              "2          4.7          3.2           1.3     0.200000  Iris-setosa\n",
              "3          4.6          3.1           1.5     3.758667  Iris-setosa\n",
              "4          5.0          3.6           1.4     0.200000  Iris-setosa"
            ]
          },
          "metadata": {
            "tags": []
          },
          "execution_count": 51
        }
      ]
    },
    {
      "cell_type": "markdown",
      "metadata": {
        "id": "f85d654f"
      },
      "source": [
        "Se sostituiamo usando la moda (cioè l'elemento più frequente) allora ci dobbiamo ricordare che la funzione mode ritorna un dataframe e quindi dobbiamo selezionare solo il primo valore usando \"iloc\" che ci permette di linee e sezioni per posizione."
      ],
      "id": "f85d654f"
    },
    {
      "cell_type": "code",
      "metadata": {
        "id": "35e497c4"
      },
      "source": [
        "replace_with_mode = iris_nan.mode().iloc[0]\n",
        "iris_new = iris_nan.fillna(replace_with_mode)"
      ],
      "id": "35e497c4",
      "execution_count": 52,
      "outputs": []
    },
    {
      "cell_type": "markdown",
      "metadata": {
        "id": "XUEi-V3fcyew"
      },
      "source": [
        "Controlliamo che non ci siano più dati NaN"
      ],
      "id": "XUEi-V3fcyew"
    },
    {
      "cell_type": "code",
      "metadata": {
        "colab": {
          "base_uri": "https://localhost:8080/"
        },
        "id": "DmvSZiBFc1de",
        "outputId": "2c4aa1e2-7396-4382-8d01-4f705243b58f"
      },
      "source": [
        "nan_count = iris_new['petal_length'].isnull().sum() \n",
        "print(nan_count)"
      ],
      "id": "DmvSZiBFc1de",
      "execution_count": 53,
      "outputs": [
        {
          "output_type": "stream",
          "text": [
            "0\n"
          ],
          "name": "stdout"
        }
      ]
    },
    {
      "cell_type": "markdown",
      "metadata": {
        "id": "osx-piOZdcQO"
      },
      "source": [
        "Vediamo che alla riga 0 e 3 è stata inserita la \"moda\" "
      ],
      "id": "osx-piOZdcQO"
    },
    {
      "cell_type": "code",
      "metadata": {
        "colab": {
          "base_uri": "https://localhost:8080/",
          "height": 206
        },
        "id": "01a978b1",
        "outputId": "9734d784-a7fc-44bd-8fae-2667ef840b62"
      },
      "source": [
        "iris_new.head()"
      ],
      "id": "01a978b1",
      "execution_count": 54,
      "outputs": [
        {
          "output_type": "execute_result",
          "data": {
            "text/html": [
              "<div>\n",
              "<style scoped>\n",
              "    .dataframe tbody tr th:only-of-type {\n",
              "        vertical-align: middle;\n",
              "    }\n",
              "\n",
              "    .dataframe tbody tr th {\n",
              "        vertical-align: top;\n",
              "    }\n",
              "\n",
              "    .dataframe thead th {\n",
              "        text-align: right;\n",
              "    }\n",
              "</style>\n",
              "<table border=\"1\" class=\"dataframe\">\n",
              "  <thead>\n",
              "    <tr style=\"text-align: right;\">\n",
              "      <th></th>\n",
              "      <th>spal_lenght</th>\n",
              "      <th>sepal_width</th>\n",
              "      <th>petal_length</th>\n",
              "      <th>petal_width</th>\n",
              "      <th>class</th>\n",
              "    </tr>\n",
              "  </thead>\n",
              "  <tbody>\n",
              "    <tr>\n",
              "      <th>0</th>\n",
              "      <td>5.1</td>\n",
              "      <td>3.5</td>\n",
              "      <td>1.4</td>\n",
              "      <td>0.2</td>\n",
              "      <td>Iris-setosa</td>\n",
              "    </tr>\n",
              "    <tr>\n",
              "      <th>1</th>\n",
              "      <td>4.9</td>\n",
              "      <td>3.0</td>\n",
              "      <td>1.4</td>\n",
              "      <td>0.2</td>\n",
              "      <td>Iris-setosa</td>\n",
              "    </tr>\n",
              "    <tr>\n",
              "      <th>2</th>\n",
              "      <td>4.7</td>\n",
              "      <td>3.2</td>\n",
              "      <td>1.3</td>\n",
              "      <td>0.2</td>\n",
              "      <td>Iris-setosa</td>\n",
              "    </tr>\n",
              "    <tr>\n",
              "      <th>3</th>\n",
              "      <td>4.6</td>\n",
              "      <td>3.1</td>\n",
              "      <td>1.5</td>\n",
              "      <td>0.2</td>\n",
              "      <td>Iris-setosa</td>\n",
              "    </tr>\n",
              "    <tr>\n",
              "      <th>4</th>\n",
              "      <td>5.0</td>\n",
              "      <td>3.6</td>\n",
              "      <td>1.4</td>\n",
              "      <td>0.2</td>\n",
              "      <td>Iris-setosa</td>\n",
              "    </tr>\n",
              "  </tbody>\n",
              "</table>\n",
              "</div>"
            ],
            "text/plain": [
              "   spal_lenght  sepal_width  petal_length  petal_width        class\n",
              "0          5.1          3.5           1.4          0.2  Iris-setosa\n",
              "1          4.9          3.0           1.4          0.2  Iris-setosa\n",
              "2          4.7          3.2           1.3          0.2  Iris-setosa\n",
              "3          4.6          3.1           1.5          0.2  Iris-setosa\n",
              "4          5.0          3.6           1.4          0.2  Iris-setosa"
            ]
          },
          "metadata": {
            "tags": []
          },
          "execution_count": 54
        }
      ]
    },
    {
      "cell_type": "markdown",
      "metadata": {
        "id": "676b929f"
      },
      "source": [
        "Se invece dobbiamo sostituire i dati in un array numpy dobbiamo allora utilizzare scikit ed il suo \"SimpleImputer\""
      ],
      "id": "676b929f"
    },
    {
      "cell_type": "markdown",
      "metadata": {
        "id": "n3XrCX8odrS_"
      },
      "source": [
        "Per prima cosa andiamo a vedere quanti dati NaN ci sono all'interno dell'array"
      ],
      "id": "n3XrCX8odrS_"
    },
    {
      "cell_type": "code",
      "metadata": {
        "colab": {
          "base_uri": "https://localhost:8080/"
        },
        "id": "fthhDxEEdvT9",
        "outputId": "76cc4bc5-0bb4-481f-c220-67612468e7ca"
      },
      "source": [
        "nan_count = np.count_nonzero(np.isnan(X))\n",
        "print(nan_count)"
      ],
      "id": "fthhDxEEdvT9",
      "execution_count": 55,
      "outputs": [
        {
          "output_type": "stream",
          "text": [
            "2\n"
          ],
          "name": "stdout"
        }
      ]
    },
    {
      "cell_type": "code",
      "metadata": {
        "id": "6245e989"
      },
      "source": [
        "from sklearn.impute import SimpleImputer"
      ],
      "id": "6245e989",
      "execution_count": 56,
      "outputs": []
    },
    {
      "cell_type": "code",
      "metadata": {
        "id": "39543db2"
      },
      "source": [
        "imp = SimpleImputer(missing_values = np.nan, strategy = 'mean')\n",
        "X_imp = imp.fit_transform(X)"
      ],
      "id": "39543db2",
      "execution_count": 57,
      "outputs": []
    },
    {
      "cell_type": "markdown",
      "metadata": {
        "id": "r4dEGF0rebP1"
      },
      "source": [
        "Controlliamo se i NaN sono stati sostituiti"
      ],
      "id": "r4dEGF0rebP1"
    },
    {
      "cell_type": "code",
      "metadata": {
        "colab": {
          "base_uri": "https://localhost:8080/"
        },
        "id": "c-jx91cLefIM",
        "outputId": "490ac2a8-d46c-4cf1-9a78-8c1e7fb96d9b"
      },
      "source": [
        "nan_count = np.count_nonzero(np.isnan(X_imp))\n",
        "print(nan_count)"
      ],
      "id": "c-jx91cLefIM",
      "execution_count": 58,
      "outputs": [
        {
          "output_type": "stream",
          "text": [
            "0\n"
          ],
          "name": "stdout"
        }
      ]
    },
    {
      "cell_type": "markdown",
      "metadata": {
        "id": "vtOC1QQ7bLMN"
      },
      "source": [
        "Infine per salvare il file csv usiamo la formula\n",
        "\"nomeistanza.to_csv(\"nomedelpercoroso.csv\")\n"
      ],
      "id": "vtOC1QQ7bLMN"
    }
  ]
}