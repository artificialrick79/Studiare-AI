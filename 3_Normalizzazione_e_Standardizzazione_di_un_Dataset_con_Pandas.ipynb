{
  "nbformat": 4,
  "nbformat_minor": 5,
  "metadata": {
    "kernelspec": {
      "display_name": "Python 3",
      "language": "python",
      "name": "python3"
    },
    "language_info": {
      "codemirror_mode": {
        "name": "ipython",
        "version": 3
      },
      "file_extension": ".py",
      "mimetype": "text/x-python",
      "name": "python",
      "nbconvert_exporter": "python",
      "pygments_lexer": "ipython3",
      "version": "3.8.8"
    },
    "colab": {
      "name": "3 - Normalizzazione e Standardizzazione di un Dataset con Pandas.ipynb",
      "provenance": [],
      "include_colab_link": true
    }
  },
  "cells": [
    {
      "cell_type": "markdown",
      "metadata": {
        "id": "view-in-github",
        "colab_type": "text"
      },
      "source": [
        "<a href=\"https://colab.research.google.com/github/artificialrick79/Studiare-AI/blob/Machine-Learning-con-python/3_Normalizzazione_e_Standardizzazione_di_un_Dataset_con_Pandas.ipynb\" target=\"_parent\"><img src=\"https://colab.research.google.com/assets/colab-badge.svg\" alt=\"Open In Colab\"/></a>"
      ]
    },
    {
      "cell_type": "markdown",
      "metadata": {
        "id": "Z_9oc3L1gMV9"
      },
      "source": [
        "Avere valori su uno stesso range numerico può velocizzare anche di molto la fase di addestramento di un modello di machine learning.<br>\n",
        "Vediamo due metodi per portare il dataset sulla stessa scala: **Normalizzazione** e **Standardizzazione**.<br>"
      ],
      "id": "Z_9oc3L1gMV9"
    },
    {
      "cell_type": "code",
      "metadata": {
        "id": "dafc3f73"
      },
      "source": [
        "import pandas as pd\n",
        "import numpy as np"
      ],
      "id": "dafc3f73",
      "execution_count": 1,
      "outputs": []
    },
    {
      "cell_type": "markdown",
      "metadata": {
        "id": "5c60c95e"
      },
      "source": [
        "Carichiamo il file scegliendo le colonne da utilizzare con usecols e assegnandogli dei nomi"
      ],
      "id": "5c60c95e"
    },
    {
      "cell_type": "code",
      "metadata": {
        "id": "d5b4a970"
      },
      "source": [
        "wines = pd.read_csv(\"https://raw.githubusercontent.com/artificialrick79/Studiare-AI/datasets/wine.data\", usecols=[0,1,7], names=['classe','alcol','flavonoidi'])"
      ],
      "id": "d5b4a970",
      "execution_count": 2,
      "outputs": []
    },
    {
      "cell_type": "code",
      "metadata": {
        "colab": {
          "base_uri": "https://localhost:8080/",
          "height": 206
        },
        "id": "83307b18",
        "outputId": "fb3b37ca-5220-4dc5-e655-6521b7f69fb8"
      },
      "source": [
        "wines.head()"
      ],
      "id": "83307b18",
      "execution_count": 3,
      "outputs": [
        {
          "output_type": "execute_result",
          "data": {
            "text/html": [
              "<div>\n",
              "<style scoped>\n",
              "    .dataframe tbody tr th:only-of-type {\n",
              "        vertical-align: middle;\n",
              "    }\n",
              "\n",
              "    .dataframe tbody tr th {\n",
              "        vertical-align: top;\n",
              "    }\n",
              "\n",
              "    .dataframe thead th {\n",
              "        text-align: right;\n",
              "    }\n",
              "</style>\n",
              "<table border=\"1\" class=\"dataframe\">\n",
              "  <thead>\n",
              "    <tr style=\"text-align: right;\">\n",
              "      <th></th>\n",
              "      <th>classe</th>\n",
              "      <th>alcol</th>\n",
              "      <th>flavonoidi</th>\n",
              "    </tr>\n",
              "  </thead>\n",
              "  <tbody>\n",
              "    <tr>\n",
              "      <th>0</th>\n",
              "      <td>1</td>\n",
              "      <td>14.23</td>\n",
              "      <td>3.06</td>\n",
              "    </tr>\n",
              "    <tr>\n",
              "      <th>1</th>\n",
              "      <td>1</td>\n",
              "      <td>13.20</td>\n",
              "      <td>2.76</td>\n",
              "    </tr>\n",
              "    <tr>\n",
              "      <th>2</th>\n",
              "      <td>1</td>\n",
              "      <td>13.16</td>\n",
              "      <td>3.24</td>\n",
              "    </tr>\n",
              "    <tr>\n",
              "      <th>3</th>\n",
              "      <td>1</td>\n",
              "      <td>14.37</td>\n",
              "      <td>3.49</td>\n",
              "    </tr>\n",
              "    <tr>\n",
              "      <th>4</th>\n",
              "      <td>1</td>\n",
              "      <td>13.24</td>\n",
              "      <td>2.69</td>\n",
              "    </tr>\n",
              "  </tbody>\n",
              "</table>\n",
              "</div>"
            ],
            "text/plain": [
              "   classe  alcol  flavonoidi\n",
              "0       1  14.23        3.06\n",
              "1       1  13.20        2.76\n",
              "2       1  13.16        3.24\n",
              "3       1  14.37        3.49\n",
              "4       1  13.24        2.69"
            ]
          },
          "metadata": {
            "tags": []
          },
          "execution_count": 3
        }
      ]
    },
    {
      "cell_type": "markdown",
      "metadata": {
        "id": "7ec0f2e8"
      },
      "source": [
        "Creiamo due array numpy uno corrispondente alle features ed uno alla classe"
      ],
      "id": "7ec0f2e8"
    },
    {
      "cell_type": "code",
      "metadata": {
        "id": "5860deb0"
      },
      "source": [
        "Y = wines[\"classe\"].values\n",
        "X = wines.drop(\"classe\", axis=1).values"
      ],
      "id": "5860deb0",
      "execution_count": 4,
      "outputs": []
    },
    {
      "cell_type": "code",
      "metadata": {
        "colab": {
          "base_uri": "https://localhost:8080/"
        },
        "id": "d5f5d2bf",
        "outputId": "e623a474-89e2-462b-cec2-39c7d53611f5"
      },
      "source": [
        "Y[:10]"
      ],
      "id": "d5f5d2bf",
      "execution_count": 5,
      "outputs": [
        {
          "output_type": "execute_result",
          "data": {
            "text/plain": [
              "array([1, 1, 1, 1, 1, 1, 1, 1, 1, 1])"
            ]
          },
          "metadata": {
            "tags": []
          },
          "execution_count": 5
        }
      ]
    },
    {
      "cell_type": "code",
      "metadata": {
        "colab": {
          "base_uri": "https://localhost:8080/"
        },
        "id": "ad6470cb",
        "outputId": "3924df30-a696-4469-a0b3-317e48179d52"
      },
      "source": [
        "X[:10]"
      ],
      "id": "ad6470cb",
      "execution_count": 6,
      "outputs": [
        {
          "output_type": "execute_result",
          "data": {
            "text/plain": [
              "array([[14.23,  3.06],\n",
              "       [13.2 ,  2.76],\n",
              "       [13.16,  3.24],\n",
              "       [14.37,  3.49],\n",
              "       [13.24,  2.69],\n",
              "       [14.2 ,  3.39],\n",
              "       [14.39,  2.52],\n",
              "       [14.06,  2.51],\n",
              "       [14.83,  2.98],\n",
              "       [13.86,  3.15]])"
            ]
          },
          "metadata": {
            "tags": []
          },
          "execution_count": 6
        }
      ]
    },
    {
      "cell_type": "markdown",
      "metadata": {
        "id": "025ff55d"
      },
      "source": [
        "Usiamo describe per vedere i range di valori delle features da cui si vede che alcol ha min e max molto differenti da flavonoidi"
      ],
      "id": "025ff55d"
    },
    {
      "cell_type": "code",
      "metadata": {
        "colab": {
          "base_uri": "https://localhost:8080/",
          "height": 300
        },
        "id": "eff0dc02",
        "outputId": "175f8102-6c14-4964-ea55-5f3a1663ec29"
      },
      "source": [
        "wines.describe()"
      ],
      "id": "eff0dc02",
      "execution_count": 7,
      "outputs": [
        {
          "output_type": "execute_result",
          "data": {
            "text/html": [
              "<div>\n",
              "<style scoped>\n",
              "    .dataframe tbody tr th:only-of-type {\n",
              "        vertical-align: middle;\n",
              "    }\n",
              "\n",
              "    .dataframe tbody tr th {\n",
              "        vertical-align: top;\n",
              "    }\n",
              "\n",
              "    .dataframe thead th {\n",
              "        text-align: right;\n",
              "    }\n",
              "</style>\n",
              "<table border=\"1\" class=\"dataframe\">\n",
              "  <thead>\n",
              "    <tr style=\"text-align: right;\">\n",
              "      <th></th>\n",
              "      <th>classe</th>\n",
              "      <th>alcol</th>\n",
              "      <th>flavonoidi</th>\n",
              "    </tr>\n",
              "  </thead>\n",
              "  <tbody>\n",
              "    <tr>\n",
              "      <th>count</th>\n",
              "      <td>178.000000</td>\n",
              "      <td>178.000000</td>\n",
              "      <td>178.000000</td>\n",
              "    </tr>\n",
              "    <tr>\n",
              "      <th>mean</th>\n",
              "      <td>1.938202</td>\n",
              "      <td>13.000618</td>\n",
              "      <td>2.029270</td>\n",
              "    </tr>\n",
              "    <tr>\n",
              "      <th>std</th>\n",
              "      <td>0.775035</td>\n",
              "      <td>0.811827</td>\n",
              "      <td>0.998859</td>\n",
              "    </tr>\n",
              "    <tr>\n",
              "      <th>min</th>\n",
              "      <td>1.000000</td>\n",
              "      <td>11.030000</td>\n",
              "      <td>0.340000</td>\n",
              "    </tr>\n",
              "    <tr>\n",
              "      <th>25%</th>\n",
              "      <td>1.000000</td>\n",
              "      <td>12.362500</td>\n",
              "      <td>1.205000</td>\n",
              "    </tr>\n",
              "    <tr>\n",
              "      <th>50%</th>\n",
              "      <td>2.000000</td>\n",
              "      <td>13.050000</td>\n",
              "      <td>2.135000</td>\n",
              "    </tr>\n",
              "    <tr>\n",
              "      <th>75%</th>\n",
              "      <td>3.000000</td>\n",
              "      <td>13.677500</td>\n",
              "      <td>2.875000</td>\n",
              "    </tr>\n",
              "    <tr>\n",
              "      <th>max</th>\n",
              "      <td>3.000000</td>\n",
              "      <td>14.830000</td>\n",
              "      <td>5.080000</td>\n",
              "    </tr>\n",
              "  </tbody>\n",
              "</table>\n",
              "</div>"
            ],
            "text/plain": [
              "           classe       alcol  flavonoidi\n",
              "count  178.000000  178.000000  178.000000\n",
              "mean     1.938202   13.000618    2.029270\n",
              "std      0.775035    0.811827    0.998859\n",
              "min      1.000000   11.030000    0.340000\n",
              "25%      1.000000   12.362500    1.205000\n",
              "50%      2.000000   13.050000    2.135000\n",
              "75%      3.000000   13.677500    2.875000\n",
              "max      3.000000   14.830000    5.080000"
            ]
          },
          "metadata": {
            "tags": []
          },
          "execution_count": 7
        }
      ]
    },
    {
      "cell_type": "markdown",
      "metadata": {
        "id": "lN_mG1jhhVER"
      },
      "source": [
        "## Normalizzazione\n",
        "La normalizzazione porta il range di valori in una scala compresa tra 0 ed uno, si esegue applicando ad ogni elemento da normalizzare la seguente formula.<br>\n",
        "$$x^{(i)}_{norm}= \\frac{x^{i}-x_{min}}{x_{max}-x_{min}}$$\n",
        "dove $x$ è un vettore che corrisponde alla colonna da normalizzare."
      ],
      "id": "lN_mG1jhhVER"
    },
    {
      "cell_type": "markdown",
      "metadata": {
        "id": "RUVSdo4UiauL"
      },
      "source": [
        "Pandas non ha un metodo per la normalizzazione ma possiamo eseguirla tramite il calcolo della suddetta formula e la successiva sostituzione dei dati. Creiamo quindi una copia del dataframe, creiamo un'istanza delle sole colonne che intendiamo normalizzare e poi effettuiamo la sostizione."
      ],
      "id": "RUVSdo4UiauL"
    },
    {
      "cell_type": "code",
      "metadata": {
        "id": "Nq9JD_hwin-0"
      },
      "source": [
        "wines_norm = wines.copy()\n",
        "features = [\"alcol\",\"flavonoidi\"]\n",
        "to_norm = wines_norm[features]\n",
        "wines_norm[features] = (to_norm-to_norm.min())/(to_norm.max()-to_norm.min())"
      ],
      "id": "Nq9JD_hwin-0",
      "execution_count": 19,
      "outputs": []
    },
    {
      "cell_type": "markdown",
      "metadata": {
        "id": "rzEDt5o-hfdx"
      },
      "source": [
        "Invece per normalizzare un'array numpy possiamo utilizzare la classe MinMaxScaler di Scikit-learn"
      ],
      "id": "rzEDt5o-hfdx"
    },
    {
      "cell_type": "code",
      "metadata": {
        "id": "aF6ur6dfhVoq"
      },
      "source": [
        "from sklearn.preprocessing import MinMaxScaler"
      ],
      "id": "aF6ur6dfhVoq",
      "execution_count": 12,
      "outputs": []
    },
    {
      "cell_type": "code",
      "metadata": {
        "id": "nRQc_Yrvhups"
      },
      "source": [
        "mms = MinMaxScaler()\n",
        "X_norm = mms.fit_transform(X)"
      ],
      "id": "nRQc_Yrvhups",
      "execution_count": 14,
      "outputs": []
    },
    {
      "cell_type": "markdown",
      "metadata": {
        "id": "p1MVJZZbiDoM"
      },
      "source": [
        "Controlliamo ora che effettivamente l'array X sia stato normalizzato"
      ],
      "id": "p1MVJZZbiDoM"
    },
    {
      "cell_type": "code",
      "metadata": {
        "colab": {
          "base_uri": "https://localhost:8080/"
        },
        "id": "WWPnL6qciJ2k",
        "outputId": "d417faf9-36f7-41d9-b8b5-1578f4d1d799"
      },
      "source": [
        "X_norm[:5]"
      ],
      "id": "WWPnL6qciJ2k",
      "execution_count": 17,
      "outputs": [
        {
          "output_type": "execute_result",
          "data": {
            "text/plain": [
              "array([[0.84210526, 0.57383966],\n",
              "       [0.57105263, 0.51054852],\n",
              "       [0.56052632, 0.61181435],\n",
              "       [0.87894737, 0.66455696],\n",
              "       [0.58157895, 0.49578059]])"
            ]
          },
          "metadata": {
            "tags": []
          },
          "execution_count": 17
        }
      ]
    },
    {
      "cell_type": "markdown",
      "metadata": {
        "id": "3nIhlSfMjb93"
      },
      "source": [
        "## Standardizzazione\n",
        "La standardizzazione crea una distribuzione normale, ovvero una distribuzione con media 0 e deviazione standard 1, quindi il range di valori sarà compreso tra -1 e 1.<br>\n",
        "La standardizzazione si esegue applicando la seguente formula\n",
        "<br>\n",
        "$$x^{(i)}_{std}= \\frac{x^{i}-x_{mean}}{x_{sd}}$$\n",
        "<br>\n",
        "dove $x$ è un vettore che corrisponde alla colonna da standardizzare, $x_{mean}$ è il valore medio nella colonna e $x_{sd}$ la deviazione standard."
      ],
      "id": "3nIhlSfMjb93"
    },
    {
      "cell_type": "markdown",
      "metadata": {
        "id": "blVNlnhZkH5k"
      },
      "source": [
        "Anche per la Standardizzazione non esiste un metodo specifico in Pandas e quindi bisogna calcolare e sostituire i valori nel dataframe. Quindi effettuiamo una copia del dataframe, creiamo un'istanza con le sole colonne che intendiamo standardizzare, calcoliamo e sostituiamo i valori in tabella."
      ],
      "id": "blVNlnhZkH5k"
    },
    {
      "cell_type": "code",
      "metadata": {
        "id": "dlafJbztkfYp"
      },
      "source": [
        "wines_std = wines.copy()\n",
        "features = [\"alcol\",\"flavonoidi\"]\n",
        "to_std = wines_std[features]\n",
        "wines_std[features] = (to_std - to_std.mean())/to_std.std()"
      ],
      "id": "dlafJbztkfYp",
      "execution_count": 23,
      "outputs": []
    },
    {
      "cell_type": "markdown",
      "metadata": {
        "id": "9msb-uHKkkrc"
      },
      "source": [
        "Controlliamo che i dati siano stati effettivamente standardizzati"
      ],
      "id": "9msb-uHKkkrc"
    },
    {
      "cell_type": "code",
      "metadata": {
        "colab": {
          "base_uri": "https://localhost:8080/",
          "height": 206
        },
        "id": "sSE-x_PWko1T",
        "outputId": "1c80bf25-d248-46d4-f087-09e29f7f69fe"
      },
      "source": [
        "wines_std[:5]"
      ],
      "id": "sSE-x_PWko1T",
      "execution_count": 24,
      "outputs": [
        {
          "output_type": "execute_result",
          "data": {
            "text/html": [
              "<div>\n",
              "<style scoped>\n",
              "    .dataframe tbody tr th:only-of-type {\n",
              "        vertical-align: middle;\n",
              "    }\n",
              "\n",
              "    .dataframe tbody tr th {\n",
              "        vertical-align: top;\n",
              "    }\n",
              "\n",
              "    .dataframe thead th {\n",
              "        text-align: right;\n",
              "    }\n",
              "</style>\n",
              "<table border=\"1\" class=\"dataframe\">\n",
              "  <thead>\n",
              "    <tr style=\"text-align: right;\">\n",
              "      <th></th>\n",
              "      <th>classe</th>\n",
              "      <th>alcol</th>\n",
              "      <th>flavonoidi</th>\n",
              "    </tr>\n",
              "  </thead>\n",
              "  <tbody>\n",
              "    <tr>\n",
              "      <th>0</th>\n",
              "      <td>1</td>\n",
              "      <td>1.514341</td>\n",
              "      <td>1.031908</td>\n",
              "    </tr>\n",
              "    <tr>\n",
              "      <th>1</th>\n",
              "      <td>1</td>\n",
              "      <td>0.245597</td>\n",
              "      <td>0.731565</td>\n",
              "    </tr>\n",
              "    <tr>\n",
              "      <th>2</th>\n",
              "      <td>1</td>\n",
              "      <td>0.196325</td>\n",
              "      <td>1.212114</td>\n",
              "    </tr>\n",
              "    <tr>\n",
              "      <th>3</th>\n",
              "      <td>1</td>\n",
              "      <td>1.686791</td>\n",
              "      <td>1.462399</td>\n",
              "    </tr>\n",
              "    <tr>\n",
              "      <th>4</th>\n",
              "      <td>1</td>\n",
              "      <td>0.294868</td>\n",
              "      <td>0.661485</td>\n",
              "    </tr>\n",
              "  </tbody>\n",
              "</table>\n",
              "</div>"
            ],
            "text/plain": [
              "   classe     alcol  flavonoidi\n",
              "0       1  1.514341    1.031908\n",
              "1       1  0.245597    0.731565\n",
              "2       1  0.196325    1.212114\n",
              "3       1  1.686791    1.462399\n",
              "4       1  0.294868    0.661485"
            ]
          },
          "metadata": {
            "tags": []
          },
          "execution_count": 24
        }
      ]
    },
    {
      "cell_type": "markdown",
      "metadata": {
        "id": "1aWTmUbnjpbn"
      },
      "source": [
        "Invece per standardizzare un'array numpy possiamo utilizzare la classe StandardScaler di Scikit-learn"
      ],
      "id": "1aWTmUbnjpbn"
    },
    {
      "cell_type": "code",
      "metadata": {
        "id": "6wEshW2tiLO6"
      },
      "source": [
        "from sklearn.preprocessing import StandardScaler"
      ],
      "id": "6wEshW2tiLO6",
      "execution_count": 20,
      "outputs": []
    },
    {
      "cell_type": "code",
      "metadata": {
        "id": "qJjXlKfmj2Wr"
      },
      "source": [
        "ss = StandardScaler()\n",
        "X_std = ss.fit_transform(X)"
      ],
      "id": "qJjXlKfmj2Wr",
      "execution_count": 21,
      "outputs": []
    },
    {
      "cell_type": "markdown",
      "metadata": {
        "id": "Xf6zgTOVj_Km"
      },
      "source": [
        "Controlliamo se la standardizzazione è stata effettuata"
      ],
      "id": "Xf6zgTOVj_Km"
    },
    {
      "cell_type": "code",
      "metadata": {
        "colab": {
          "base_uri": "https://localhost:8080/"
        },
        "id": "cR4gkFj0j5Jb",
        "outputId": "98be4bcc-b808-4f1b-a037-3715dc5e4c25"
      },
      "source": [
        "X_std[0:5]"
      ],
      "id": "cR4gkFj0j5Jb",
      "execution_count": 22,
      "outputs": [
        {
          "output_type": "execute_result",
          "data": {
            "text/plain": [
              "array([[1.51861254, 1.03481896],\n",
              "       [0.24628963, 0.73362894],\n",
              "       [0.19687903, 1.21553297],\n",
              "       [1.69154964, 1.46652465],\n",
              "       [0.29570023, 0.66335127]])"
            ]
          },
          "metadata": {
            "tags": []
          },
          "execution_count": 22
        }
      ]
    },
    {
      "cell_type": "markdown",
      "metadata": {
        "id": "2NHypY5-k0g5"
      },
      "source": [
        "NOTA BENE \n",
        "Se osservi attentamente la standardizzazione eseguita con Pandas ha tornato un risultato leggermente diverso rispetto a quella eseguita con scikit-learn, questo accade perchè scikit-learn utilizza internamente la funzione std di Numpy, che calcola la deviazione standard in maniera diversa rispetto al metodo std del DataFrame.\n",
        "Per approfondire vedi qui.\n",
        "https://stackoverflow.com/questions/44220290/sklearn-standardscaler-result-different-to-manual-result/44220374#44220374"
      ],
      "id": "2NHypY5-k0g5"
    },
    {
      "cell_type": "code",
      "metadata": {
        "id": "jd2PtG7Fk3eH"
      },
      "source": [
        ""
      ],
      "id": "jd2PtG7Fk3eH",
      "execution_count": null,
      "outputs": []
    }
  ]
}