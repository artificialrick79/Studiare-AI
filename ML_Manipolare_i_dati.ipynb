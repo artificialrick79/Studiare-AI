{
  "nbformat": 4,
  "nbformat_minor": 5,
  "metadata": {
    "kernelspec": {
      "display_name": "Python 3",
      "language": "python",
      "name": "python3"
    },
    "language_info": {
      "codemirror_mode": {
        "name": "ipython",
        "version": 3
      },
      "file_extension": ".py",
      "mimetype": "text/x-python",
      "name": "python",
      "nbconvert_exporter": "python",
      "pygments_lexer": "ipython3",
      "version": "3.8.8"
    },
    "colab": {
      "name": "ML - Manipolare i dati.ipynb",
      "provenance": [],
      "include_colab_link": true
    }
  },
  "cells": [
    {
      "cell_type": "markdown",
      "metadata": {
        "id": "view-in-github",
        "colab_type": "text"
      },
      "source": [
        "<a href=\"https://colab.research.google.com/github/artificialrick79/Studiare-AI/blob/Machine-Learning-con-python/ML_Manipolare_i_dati.ipynb\" target=\"_parent\"><img src=\"https://colab.research.google.com/assets/colab-badge.svg\" alt=\"Open In Colab\"/></a>"
      ]
    },
    {
      "cell_type": "markdown",
      "metadata": {
        "id": "9f7a4921"
      },
      "source": [
        "Per prima cosa importiamo Pandas e Numpy e importiamo il file csv impostando index_col a False cosicchè l'intestazione del file non sia indicizzata"
      ],
      "id": "9f7a4921"
    },
    {
      "cell_type": "code",
      "metadata": {
        "id": "3319ba55"
      },
      "source": [
        "import pandas as pd\n",
        "import numpy as np\n",
        "\n",
        "shirts = pd.read_csv(\"https://raw.githubusercontent.com/artificialrick79/Studiare-AI/datasets/shirts.txt\", index_col=False)"
      ],
      "id": "3319ba55",
      "execution_count": 1,
      "outputs": []
    },
    {
      "cell_type": "code",
      "metadata": {
        "colab": {
          "base_uri": "https://localhost:8080/",
          "height": 206
        },
        "id": "3e4de1a0",
        "outputId": "4969ad5d-0148-4932-a7bc-d9404fc48dce"
      },
      "source": [
        "shirts.head()"
      ],
      "id": "3e4de1a0",
      "execution_count": 2,
      "outputs": [
        {
          "output_type": "execute_result",
          "data": {
            "text/html": [
              "<div>\n",
              "<style scoped>\n",
              "    .dataframe tbody tr th:only-of-type {\n",
              "        vertical-align: middle;\n",
              "    }\n",
              "\n",
              "    .dataframe tbody tr th {\n",
              "        vertical-align: top;\n",
              "    }\n",
              "\n",
              "    .dataframe thead th {\n",
              "        text-align: right;\n",
              "    }\n",
              "</style>\n",
              "<table border=\"1\" class=\"dataframe\">\n",
              "  <thead>\n",
              "    <tr style=\"text-align: right;\">\n",
              "      <th></th>\n",
              "      <th>taglia</th>\n",
              "      <th>colore</th>\n",
              "      <th>prezzo</th>\n",
              "    </tr>\n",
              "  </thead>\n",
              "  <tbody>\n",
              "    <tr>\n",
              "      <th>0</th>\n",
              "      <td>s</td>\n",
              "      <td>bianco</td>\n",
              "      <td>4.99</td>\n",
              "    </tr>\n",
              "    <tr>\n",
              "      <th>1</th>\n",
              "      <td>m</td>\n",
              "      <td>bianco</td>\n",
              "      <td>19.99</td>\n",
              "    </tr>\n",
              "    <tr>\n",
              "      <th>2</th>\n",
              "      <td>xl</td>\n",
              "      <td>rosso</td>\n",
              "      <td>12.49</td>\n",
              "    </tr>\n",
              "    <tr>\n",
              "      <th>3</th>\n",
              "      <td>xl</td>\n",
              "      <td>verde</td>\n",
              "      <td>14.99</td>\n",
              "    </tr>\n",
              "    <tr>\n",
              "      <th>4</th>\n",
              "      <td>s</td>\n",
              "      <td>bianco</td>\n",
              "      <td>9.99</td>\n",
              "    </tr>\n",
              "  </tbody>\n",
              "</table>\n",
              "</div>"
            ],
            "text/plain": [
              "  taglia  colore  prezzo\n",
              "0      s  bianco    4.99\n",
              "1      m  bianco   19.99\n",
              "2     xl   rosso   12.49\n",
              "3     xl   verde   14.99\n",
              "4      s  bianco    9.99"
            ]
          },
          "metadata": {
            "tags": []
          },
          "execution_count": 2
        }
      ]
    },
    {
      "cell_type": "markdown",
      "metadata": {
        "id": "8595d6f4"
      },
      "source": [
        "Creiamo un array numpy contenente il dataset utilizzando la proprietà \"values\""
      ],
      "id": "8595d6f4"
    },
    {
      "cell_type": "markdown",
      "metadata": {
        "id": "3010fed8"
      },
      "source": [
        "Come vediamo ci sono due variabili \"Categoriche\", dove la taglia è una variabile \"Ordinale\" mentre colore è una variaibile \"Nominale\""
      ],
      "id": "3010fed8"
    },
    {
      "cell_type": "markdown",
      "metadata": {
        "id": "4b8704c4"
      },
      "source": [
        "Per trasformare la taglia in numeri creiamo un dizionario"
      ],
      "id": "4b8704c4"
    },
    {
      "cell_type": "code",
      "metadata": {
        "id": "d12a87f2"
      },
      "source": [
        "size_mapping = {\"s\":0, \"m\":1, \"l\":2, \"xl\":3}"
      ],
      "id": "d12a87f2",
      "execution_count": 3,
      "outputs": []
    },
    {
      "cell_type": "markdown",
      "metadata": {
        "id": "6043d9e7"
      },
      "source": [
        "Sostituiamo ora il valore chiave con il contenuto e quindi riusciamo a convertire testo in numeri"
      ],
      "id": "6043d9e7"
    },
    {
      "cell_type": "code",
      "metadata": {
        "colab": {
          "base_uri": "https://localhost:8080/",
          "height": 206
        },
        "id": "9385871d",
        "outputId": "c8f7d0fe-d2e4-48c1-cb39-db7247ddacd0"
      },
      "source": [
        "shirts[\"taglia\"]=shirts[\"taglia\"].map(size_mapping)\n",
        "shirts.head()"
      ],
      "id": "9385871d",
      "execution_count": 4,
      "outputs": [
        {
          "output_type": "execute_result",
          "data": {
            "text/html": [
              "<div>\n",
              "<style scoped>\n",
              "    .dataframe tbody tr th:only-of-type {\n",
              "        vertical-align: middle;\n",
              "    }\n",
              "\n",
              "    .dataframe tbody tr th {\n",
              "        vertical-align: top;\n",
              "    }\n",
              "\n",
              "    .dataframe thead th {\n",
              "        text-align: right;\n",
              "    }\n",
              "</style>\n",
              "<table border=\"1\" class=\"dataframe\">\n",
              "  <thead>\n",
              "    <tr style=\"text-align: right;\">\n",
              "      <th></th>\n",
              "      <th>taglia</th>\n",
              "      <th>colore</th>\n",
              "      <th>prezzo</th>\n",
              "    </tr>\n",
              "  </thead>\n",
              "  <tbody>\n",
              "    <tr>\n",
              "      <th>0</th>\n",
              "      <td>0</td>\n",
              "      <td>bianco</td>\n",
              "      <td>4.99</td>\n",
              "    </tr>\n",
              "    <tr>\n",
              "      <th>1</th>\n",
              "      <td>1</td>\n",
              "      <td>bianco</td>\n",
              "      <td>19.99</td>\n",
              "    </tr>\n",
              "    <tr>\n",
              "      <th>2</th>\n",
              "      <td>3</td>\n",
              "      <td>rosso</td>\n",
              "      <td>12.49</td>\n",
              "    </tr>\n",
              "    <tr>\n",
              "      <th>3</th>\n",
              "      <td>3</td>\n",
              "      <td>verde</td>\n",
              "      <td>14.99</td>\n",
              "    </tr>\n",
              "    <tr>\n",
              "      <th>4</th>\n",
              "      <td>0</td>\n",
              "      <td>bianco</td>\n",
              "      <td>9.99</td>\n",
              "    </tr>\n",
              "  </tbody>\n",
              "</table>\n",
              "</div>"
            ],
            "text/plain": [
              "   taglia  colore  prezzo\n",
              "0       0  bianco    4.99\n",
              "1       1  bianco   19.99\n",
              "2       3   rosso   12.49\n",
              "3       3   verde   14.99\n",
              "4       0  bianco    9.99"
            ]
          },
          "metadata": {
            "tags": []
          },
          "execution_count": 4
        }
      ]
    },
    {
      "cell_type": "markdown",
      "metadata": {
        "id": "a7c28d37"
      },
      "source": [
        "Se invece abbiamo un array Numpy e non un Dataframe di Pandas allora dobbiamo usare vectorize creandoci noi una funzione di map"
      ],
      "id": "a7c28d37"
    },
    {
      "cell_type": "markdown",
      "metadata": {
        "id": "78fbe66f"
      },
      "source": [
        "Importiamo il file e creiamo un array numpy contenente il dataset utilizzando la proprietà \"values\""
      ],
      "id": "78fbe66f"
    },
    {
      "cell_type": "code",
      "metadata": {
        "id": "480e692d"
      },
      "source": [
        "shirts = pd.read_csv(\"https://raw.githubusercontent.com/artificialrick79/Studiare-AI/datasets/shirts.txt\", index_col=False)\n",
        "X = shirts.values"
      ],
      "id": "480e692d",
      "execution_count": 6,
      "outputs": []
    },
    {
      "cell_type": "code",
      "metadata": {
        "id": "de4d121f",
        "outputId": "b22a3c23-b197-44f1-a91f-336ddddd684a"
      },
      "source": [
        "X[:10]"
      ],
      "id": "de4d121f",
      "execution_count": null,
      "outputs": [
        {
          "output_type": "execute_result",
          "data": {
            "text/plain": [
              "array([['s', 'bianco', 4.99],\n",
              "       ['m', 'bianco', 19.99],\n",
              "       ['xl', 'rosso', 12.49],\n",
              "       ['xl', 'verde', 14.99],\n",
              "       ['s', 'bianco', 9.99],\n",
              "       ['m', 'verde', 9.99],\n",
              "       ['xl', 'rosso', 13.99]], dtype=object)"
            ]
          },
          "metadata": {
            "tags": []
          },
          "execution_count": 338
        }
      ]
    },
    {
      "cell_type": "raw",
      "metadata": {
        "id": "87eacaab"
      },
      "source": [
        "utilizziamo lambda come funzione usa e getta"
      ],
      "id": "87eacaab"
    },
    {
      "cell_type": "code",
      "metadata": {
        "id": "f8948863"
      },
      "source": [
        "fmap = np.vectorize(lambda t:size_mapping[t])\n",
        "X[:,0] = fmap(X[:,0])"
      ],
      "id": "f8948863",
      "execution_count": 7,
      "outputs": []
    },
    {
      "cell_type": "code",
      "metadata": {
        "colab": {
          "base_uri": "https://localhost:8080/"
        },
        "id": "b5f7e8f2",
        "outputId": "43d075d2-5beb-4349-8410-5087e556e5c6"
      },
      "source": [
        "X"
      ],
      "id": "b5f7e8f2",
      "execution_count": 8,
      "outputs": [
        {
          "output_type": "execute_result",
          "data": {
            "text/plain": [
              "array([[0, 'bianco', 4.99],\n",
              "       [1, 'bianco', 19.99],\n",
              "       [3, 'rosso', 12.49],\n",
              "       [3, 'verde', 14.99],\n",
              "       [0, 'bianco', 9.99],\n",
              "       [1, 'verde', 9.99],\n",
              "       [3, 'rosso', 13.99]], dtype=object)"
            ]
          },
          "metadata": {
            "tags": []
          },
          "execution_count": 8
        }
      ]
    },
    {
      "cell_type": "markdown",
      "metadata": {
        "id": "db92008c"
      },
      "source": [
        "Nel caso di variabili nominali il metodo è il ONE-HOT-ENCODING che genera tante colonne quante necessarie associando una variabile booleana. In questo caso si usa la funzione get_dummies"
      ],
      "id": "db92008c"
    },
    {
      "cell_type": "code",
      "metadata": {
        "id": "7a6dc6f6"
      },
      "source": [
        "shirts2 = pd.read_csv(\"https://raw.githubusercontent.com/artificialrick79/Studiare-AI/datasets/shirts.txt\", index_col=False)"
      ],
      "id": "7a6dc6f6",
      "execution_count": 10,
      "outputs": []
    },
    {
      "cell_type": "code",
      "metadata": {
        "colab": {
          "base_uri": "https://localhost:8080/",
          "height": 206
        },
        "id": "c4ad9dd2",
        "outputId": "426c78d5-1b52-4a2d-9e37-b0cc4950cad1"
      },
      "source": [
        "shirts2.head()"
      ],
      "id": "c4ad9dd2",
      "execution_count": 11,
      "outputs": [
        {
          "output_type": "execute_result",
          "data": {
            "text/html": [
              "<div>\n",
              "<style scoped>\n",
              "    .dataframe tbody tr th:only-of-type {\n",
              "        vertical-align: middle;\n",
              "    }\n",
              "\n",
              "    .dataframe tbody tr th {\n",
              "        vertical-align: top;\n",
              "    }\n",
              "\n",
              "    .dataframe thead th {\n",
              "        text-align: right;\n",
              "    }\n",
              "</style>\n",
              "<table border=\"1\" class=\"dataframe\">\n",
              "  <thead>\n",
              "    <tr style=\"text-align: right;\">\n",
              "      <th></th>\n",
              "      <th>taglia</th>\n",
              "      <th>colore</th>\n",
              "      <th>prezzo</th>\n",
              "    </tr>\n",
              "  </thead>\n",
              "  <tbody>\n",
              "    <tr>\n",
              "      <th>0</th>\n",
              "      <td>s</td>\n",
              "      <td>bianco</td>\n",
              "      <td>4.99</td>\n",
              "    </tr>\n",
              "    <tr>\n",
              "      <th>1</th>\n",
              "      <td>m</td>\n",
              "      <td>bianco</td>\n",
              "      <td>19.99</td>\n",
              "    </tr>\n",
              "    <tr>\n",
              "      <th>2</th>\n",
              "      <td>xl</td>\n",
              "      <td>rosso</td>\n",
              "      <td>12.49</td>\n",
              "    </tr>\n",
              "    <tr>\n",
              "      <th>3</th>\n",
              "      <td>xl</td>\n",
              "      <td>verde</td>\n",
              "      <td>14.99</td>\n",
              "    </tr>\n",
              "    <tr>\n",
              "      <th>4</th>\n",
              "      <td>s</td>\n",
              "      <td>bianco</td>\n",
              "      <td>9.99</td>\n",
              "    </tr>\n",
              "  </tbody>\n",
              "</table>\n",
              "</div>"
            ],
            "text/plain": [
              "  taglia  colore  prezzo\n",
              "0      s  bianco    4.99\n",
              "1      m  bianco   19.99\n",
              "2     xl   rosso   12.49\n",
              "3     xl   verde   14.99\n",
              "4      s  bianco    9.99"
            ]
          },
          "metadata": {
            "tags": []
          },
          "execution_count": 11
        }
      ]
    },
    {
      "cell_type": "code",
      "metadata": {
        "id": "30076fa2"
      },
      "source": [
        "shirts2 = pd.get_dummies(shirts2, columns=[\"colore\"])"
      ],
      "id": "30076fa2",
      "execution_count": 12,
      "outputs": []
    },
    {
      "cell_type": "code",
      "metadata": {
        "colab": {
          "base_uri": "https://localhost:8080/",
          "height": 206
        },
        "id": "1120f532",
        "outputId": "4425d95e-95d8-4158-ac16-b717d112cbbe"
      },
      "source": [
        "shirts2.head()"
      ],
      "id": "1120f532",
      "execution_count": 13,
      "outputs": [
        {
          "output_type": "execute_result",
          "data": {
            "text/html": [
              "<div>\n",
              "<style scoped>\n",
              "    .dataframe tbody tr th:only-of-type {\n",
              "        vertical-align: middle;\n",
              "    }\n",
              "\n",
              "    .dataframe tbody tr th {\n",
              "        vertical-align: top;\n",
              "    }\n",
              "\n",
              "    .dataframe thead th {\n",
              "        text-align: right;\n",
              "    }\n",
              "</style>\n",
              "<table border=\"1\" class=\"dataframe\">\n",
              "  <thead>\n",
              "    <tr style=\"text-align: right;\">\n",
              "      <th></th>\n",
              "      <th>taglia</th>\n",
              "      <th>prezzo</th>\n",
              "      <th>colore_bianco</th>\n",
              "      <th>colore_rosso</th>\n",
              "      <th>colore_verde</th>\n",
              "    </tr>\n",
              "  </thead>\n",
              "  <tbody>\n",
              "    <tr>\n",
              "      <th>0</th>\n",
              "      <td>s</td>\n",
              "      <td>4.99</td>\n",
              "      <td>1</td>\n",
              "      <td>0</td>\n",
              "      <td>0</td>\n",
              "    </tr>\n",
              "    <tr>\n",
              "      <th>1</th>\n",
              "      <td>m</td>\n",
              "      <td>19.99</td>\n",
              "      <td>1</td>\n",
              "      <td>0</td>\n",
              "      <td>0</td>\n",
              "    </tr>\n",
              "    <tr>\n",
              "      <th>2</th>\n",
              "      <td>xl</td>\n",
              "      <td>12.49</td>\n",
              "      <td>0</td>\n",
              "      <td>1</td>\n",
              "      <td>0</td>\n",
              "    </tr>\n",
              "    <tr>\n",
              "      <th>3</th>\n",
              "      <td>xl</td>\n",
              "      <td>14.99</td>\n",
              "      <td>0</td>\n",
              "      <td>0</td>\n",
              "      <td>1</td>\n",
              "    </tr>\n",
              "    <tr>\n",
              "      <th>4</th>\n",
              "      <td>s</td>\n",
              "      <td>9.99</td>\n",
              "      <td>1</td>\n",
              "      <td>0</td>\n",
              "      <td>0</td>\n",
              "    </tr>\n",
              "  </tbody>\n",
              "</table>\n",
              "</div>"
            ],
            "text/plain": [
              "  taglia  prezzo  colore_bianco  colore_rosso  colore_verde\n",
              "0      s    4.99              1             0             0\n",
              "1      m   19.99              1             0             0\n",
              "2     xl   12.49              0             1             0\n",
              "3     xl   14.99              0             0             1\n",
              "4      s    9.99              1             0             0"
            ]
          },
          "metadata": {
            "tags": []
          },
          "execution_count": 13
        }
      ]
    },
    {
      "cell_type": "raw",
      "metadata": {
        "id": "0f791323"
      },
      "source": [
        "Per eseguire il ONE-HOT-ENCODING su array Numpy invece dobbiamo utilizzare SciKit Learn con le funzioni LabelEncoder (per sostituire ogni label con un numero) e OneHotEncoder (per creare le nostre variabili di comodo). "
      ],
      "id": "0f791323"
    },
    {
      "cell_type": "code",
      "metadata": {
        "id": "de08dfa0"
      },
      "source": [
        "from sklearn.preprocessing import LabelEncoder\n",
        "from sklearn.preprocessing import OneHotEncoder"
      ],
      "id": "de08dfa0",
      "execution_count": 14,
      "outputs": []
    },
    {
      "cell_type": "markdown",
      "metadata": {
        "id": "a08478ce"
      },
      "source": [
        "Creiamo oggetti per entrambe classi"
      ],
      "id": "a08478ce"
    },
    {
      "cell_type": "code",
      "metadata": {
        "colab": {
          "base_uri": "https://localhost:8080/",
          "height": 215
        },
        "id": "195e0fd2",
        "outputId": "c4ed095d-2ce2-4ab1-d4a4-bbf0d1fcf26d"
      },
      "source": [
        "le = LabelEncoder()\n",
        "enc = OneHotEncoder(categorical_features[1])\n",
        "X[:,1] = le.fit_trasform(X[:,1])"
      ],
      "id": "195e0fd2",
      "execution_count": 15,
      "outputs": [
        {
          "output_type": "error",
          "ename": "NameError",
          "evalue": "ignored",
          "traceback": [
            "\u001b[0;31m---------------------------------------------------------------------------\u001b[0m",
            "\u001b[0;31mNameError\u001b[0m                                 Traceback (most recent call last)",
            "\u001b[0;32m<ipython-input-15-8ae4cf6db823>\u001b[0m in \u001b[0;36m<module>\u001b[0;34m()\u001b[0m\n\u001b[1;32m      1\u001b[0m \u001b[0mle\u001b[0m \u001b[0;34m=\u001b[0m \u001b[0mLabelEncoder\u001b[0m\u001b[0;34m(\u001b[0m\u001b[0;34m)\u001b[0m\u001b[0;34m\u001b[0m\u001b[0;34m\u001b[0m\u001b[0m\n\u001b[0;32m----> 2\u001b[0;31m \u001b[0menc\u001b[0m \u001b[0;34m=\u001b[0m \u001b[0mOneHotEncoder\u001b[0m\u001b[0;34m(\u001b[0m\u001b[0mcategorical_features\u001b[0m\u001b[0;34m[\u001b[0m\u001b[0;36m1\u001b[0m\u001b[0;34m]\u001b[0m\u001b[0;34m)\u001b[0m\u001b[0;34m\u001b[0m\u001b[0;34m\u001b[0m\u001b[0m\n\u001b[0m\u001b[1;32m      3\u001b[0m \u001b[0mX\u001b[0m\u001b[0;34m[\u001b[0m\u001b[0;34m:\u001b[0m\u001b[0;34m,\u001b[0m\u001b[0;36m1\u001b[0m\u001b[0;34m]\u001b[0m \u001b[0;34m=\u001b[0m \u001b[0mle\u001b[0m\u001b[0;34m.\u001b[0m\u001b[0mfit_trasform\u001b[0m\u001b[0;34m(\u001b[0m\u001b[0mX\u001b[0m\u001b[0;34m[\u001b[0m\u001b[0;34m:\u001b[0m\u001b[0;34m,\u001b[0m\u001b[0;36m1\u001b[0m\u001b[0;34m]\u001b[0m\u001b[0;34m)\u001b[0m\u001b[0;34m\u001b[0m\u001b[0;34m\u001b[0m\u001b[0m\n",
            "\u001b[0;31mNameError\u001b[0m: name 'categorical_features' is not defined"
          ]
        }
      ]
    },
    {
      "cell_type": "markdown",
      "metadata": {
        "id": "069af2bf"
      },
      "source": [
        "Ora applichiamo il OneHotEncoder il cui risultato sarà una matrice sparsa (cioè composta prevalentemente da zeri) e poi trasformiamo il tutto di nuovo in un array"
      ],
      "id": "069af2bf"
    },
    {
      "cell_type": "code",
      "metadata": {
        "colab": {
          "base_uri": "https://localhost:8080/",
          "height": 196
        },
        "id": "cecb05f3",
        "outputId": "72c1cdea-6255-464c-9a53-2c24b1b22310"
      },
      "source": [
        "X_sparse = enc.fit_transform(X)\n",
        "X = X_sparse.toarray()"
      ],
      "id": "cecb05f3",
      "execution_count": 16,
      "outputs": [
        {
          "output_type": "error",
          "ename": "NameError",
          "evalue": "ignored",
          "traceback": [
            "\u001b[0;31m---------------------------------------------------------------------------\u001b[0m",
            "\u001b[0;31mNameError\u001b[0m                                 Traceback (most recent call last)",
            "\u001b[0;32m<ipython-input-16-69a7efd719f9>\u001b[0m in \u001b[0;36m<module>\u001b[0;34m()\u001b[0m\n\u001b[0;32m----> 1\u001b[0;31m \u001b[0mX_sparse\u001b[0m \u001b[0;34m=\u001b[0m \u001b[0menc\u001b[0m\u001b[0;34m.\u001b[0m\u001b[0mfit_transform\u001b[0m\u001b[0;34m(\u001b[0m\u001b[0mX\u001b[0m\u001b[0;34m)\u001b[0m\u001b[0;34m\u001b[0m\u001b[0;34m\u001b[0m\u001b[0m\n\u001b[0m\u001b[1;32m      2\u001b[0m \u001b[0mX\u001b[0m \u001b[0;34m=\u001b[0m \u001b[0mX_sparse\u001b[0m\u001b[0;34m.\u001b[0m\u001b[0mtoarray\u001b[0m\u001b[0;34m(\u001b[0m\u001b[0;34m)\u001b[0m\u001b[0;34m\u001b[0m\u001b[0;34m\u001b[0m\u001b[0m\n",
            "\u001b[0;31mNameError\u001b[0m: name 'enc' is not defined"
          ]
        }
      ]
    },
    {
      "cell_type": "code",
      "metadata": {
        "id": "03352ed8"
      },
      "source": [
        ""
      ],
      "id": "03352ed8",
      "execution_count": null,
      "outputs": []
    }
  ]
}